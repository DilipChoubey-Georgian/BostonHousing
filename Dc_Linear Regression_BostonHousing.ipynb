{
 "cells": [
  {
   "cell_type": "code",
   "execution_count": 46,
   "id": "c699e886-bdd6-4cc0-b104-2e7f7c68e43c",
   "metadata": {},
   "outputs": [
    {
     "data": {
      "text/plain": [
       "'C:\\\\Users\\\\choub'"
      ]
     },
     "execution_count": 46,
     "metadata": {},
     "output_type": "execute_result"
    }
   ],
   "source": [
    "import os\n",
    "os.getcwd()"
   ]
  },
  {
   "cell_type": "code",
   "execution_count": 47,
   "id": "87eeae04-8207-449d-b31c-f21b45bceefc",
   "metadata": {},
   "outputs": [],
   "source": [
    "os.chdir(\"E:/Python_learn/11 dec_LR _BOSTON HOUSING\")"
   ]
  },
  {
   "cell_type": "code",
   "execution_count": 48,
   "id": "5b765e65-c67e-4484-b07b-f7ab22999966",
   "metadata": {},
   "outputs": [
    {
     "data": {
      "text/plain": [
       "'E:\\\\Python_learn\\\\11 dec_LR _BOSTON HOUSING'"
      ]
     },
     "execution_count": 48,
     "metadata": {},
     "output_type": "execute_result"
    }
   ],
   "source": [
    "os.getcwd()"
   ]
  },
  {
   "cell_type": "code",
   "execution_count": 49,
   "id": "47eda30a-3328-4971-8c80-42a3a3fdf999",
   "metadata": {},
   "outputs": [],
   "source": [
    "import numpy as np\n",
    "import pandas as pd\n",
    "import seaborn as sns\n",
    "import matplotlib.pyplot as plt\n",
    "%matplotlib inline \n",
    "sns.set()\n",
    "import warnings\n",
    "warnings.filterwarnings('ignore')\n",
    "\n"
   ]
  },
  {
   "cell_type": "code",
   "execution_count": 50,
   "id": "a685bfdc-7cce-4ee5-b57f-02e59bee50d4",
   "metadata": {},
   "outputs": [
    {
     "data": {
      "text/plain": [
       "'\\nAs problem is finding the price of house and it has multi variable.\\nformula:  y= B1*X1 + B2*X2 + B3*X3.....BN*XN + B0\\nIn this case the variables are: crim\\tzn\\tindus\\tchas\\tnox\\trm\\tage\\tdis\\trad\\ttax\\tptratio\\tb\\tlstat\\tmedv\\nmedv (PRICE) = B1*crim\\t+ B2*zn\\t+ B3*indus + B4*chas + B5*nox +\\tB6*rm+ B7*age + B8*dis+ B9*rad + B10*tax + B11*ptratio + B12*b + B13*lstat + B0\\n'"
      ]
     },
     "execution_count": 50,
     "metadata": {},
     "output_type": "execute_result"
    }
   ],
   "source": [
    "\"\"\"\n",
    "As problem is finding the price of house and it has multi variable.\n",
    "formula:  y= B1*X1 + B2*X2 + B3*X3.....BN*XN + B0\n",
    "In this case the variables are: crim\tzn\tindus\tchas\tnox\trm\tage\tdis\trad\ttax\tptratio\tb\tlstat\tmedv\n",
    "medv (PRICE) = B1*crim\t+ B2*zn\t+ B3*indus + B4*chas + B5*nox +\tB6*rm+ B7*age + B8*dis+ B9*rad + B10*tax + B11*ptratio + B12*b + B13*lstat + B0\n",
    "\"\"\""
   ]
  },
  {
   "cell_type": "code",
   "execution_count": 51,
   "id": "aeb07aa0-df48-4e52-9034-9ecf8411e9e0",
   "metadata": {},
   "outputs": [],
   "source": [
    "df= pd.read_csv(\"BostonHousing.csv\")"
   ]
  },
  {
   "cell_type": "code",
   "execution_count": 52,
   "id": "a0cb0dbe-6637-448e-b8ad-da64e719a7d0",
   "metadata": {},
   "outputs": [
    {
     "name": "stdout",
     "output_type": "stream",
     "text": [
      "<class 'pandas.core.frame.DataFrame'>\n",
      "RangeIndex: 506 entries, 0 to 505\n",
      "Data columns (total 14 columns):\n",
      " #   Column   Non-Null Count  Dtype  \n",
      "---  ------   --------------  -----  \n",
      " 0   crim     506 non-null    float64\n",
      " 1   zn       506 non-null    float64\n",
      " 2   indus    506 non-null    float64\n",
      " 3   chas     506 non-null    int64  \n",
      " 4   nox      506 non-null    float64\n",
      " 5   rm       506 non-null    float64\n",
      " 6   age      506 non-null    float64\n",
      " 7   dis      506 non-null    float64\n",
      " 8   rad      506 non-null    int64  \n",
      " 9   tax      506 non-null    int64  \n",
      " 10  ptratio  506 non-null    float64\n",
      " 11  b        506 non-null    float64\n",
      " 12  lstat    506 non-null    float64\n",
      " 13  medv     506 non-null    float64\n",
      "dtypes: float64(11), int64(3)\n",
      "memory usage: 55.5 KB\n"
     ]
    }
   ],
   "source": [
    "df.info()"
   ]
  },
  {
   "cell_type": "code",
   "execution_count": 53,
   "id": "e65ff0ad-fab0-447a-a1cf-a3137cdaf5a7",
   "metadata": {},
   "outputs": [
    {
     "data": {
      "text/html": [
       "<div>\n",
       "<style scoped>\n",
       "    .dataframe tbody tr th:only-of-type {\n",
       "        vertical-align: middle;\n",
       "    }\n",
       "\n",
       "    .dataframe tbody tr th {\n",
       "        vertical-align: top;\n",
       "    }\n",
       "\n",
       "    .dataframe thead th {\n",
       "        text-align: right;\n",
       "    }\n",
       "</style>\n",
       "<table border=\"1\" class=\"dataframe\">\n",
       "  <thead>\n",
       "    <tr style=\"text-align: right;\">\n",
       "      <th></th>\n",
       "      <th>crim</th>\n",
       "      <th>zn</th>\n",
       "      <th>indus</th>\n",
       "      <th>chas</th>\n",
       "      <th>nox</th>\n",
       "      <th>rm</th>\n",
       "      <th>age</th>\n",
       "      <th>dis</th>\n",
       "      <th>rad</th>\n",
       "      <th>tax</th>\n",
       "      <th>ptratio</th>\n",
       "      <th>b</th>\n",
       "      <th>lstat</th>\n",
       "      <th>medv</th>\n",
       "    </tr>\n",
       "  </thead>\n",
       "  <tbody>\n",
       "    <tr>\n",
       "      <th>0</th>\n",
       "      <td>0.00632</td>\n",
       "      <td>18.0</td>\n",
       "      <td>2.31</td>\n",
       "      <td>0</td>\n",
       "      <td>0.538</td>\n",
       "      <td>6.575</td>\n",
       "      <td>65.2</td>\n",
       "      <td>4.0900</td>\n",
       "      <td>1</td>\n",
       "      <td>296</td>\n",
       "      <td>15.3</td>\n",
       "      <td>396.90</td>\n",
       "      <td>4.98</td>\n",
       "      <td>24.0</td>\n",
       "    </tr>\n",
       "    <tr>\n",
       "      <th>1</th>\n",
       "      <td>0.02731</td>\n",
       "      <td>0.0</td>\n",
       "      <td>7.07</td>\n",
       "      <td>0</td>\n",
       "      <td>0.469</td>\n",
       "      <td>6.421</td>\n",
       "      <td>78.9</td>\n",
       "      <td>4.9671</td>\n",
       "      <td>2</td>\n",
       "      <td>242</td>\n",
       "      <td>17.8</td>\n",
       "      <td>396.90</td>\n",
       "      <td>9.14</td>\n",
       "      <td>21.6</td>\n",
       "    </tr>\n",
       "    <tr>\n",
       "      <th>2</th>\n",
       "      <td>0.02729</td>\n",
       "      <td>0.0</td>\n",
       "      <td>7.07</td>\n",
       "      <td>0</td>\n",
       "      <td>0.469</td>\n",
       "      <td>7.185</td>\n",
       "      <td>61.1</td>\n",
       "      <td>4.9671</td>\n",
       "      <td>2</td>\n",
       "      <td>242</td>\n",
       "      <td>17.8</td>\n",
       "      <td>392.83</td>\n",
       "      <td>4.03</td>\n",
       "      <td>34.7</td>\n",
       "    </tr>\n",
       "    <tr>\n",
       "      <th>3</th>\n",
       "      <td>0.03237</td>\n",
       "      <td>0.0</td>\n",
       "      <td>2.18</td>\n",
       "      <td>0</td>\n",
       "      <td>0.458</td>\n",
       "      <td>6.998</td>\n",
       "      <td>45.8</td>\n",
       "      <td>6.0622</td>\n",
       "      <td>3</td>\n",
       "      <td>222</td>\n",
       "      <td>18.7</td>\n",
       "      <td>394.63</td>\n",
       "      <td>2.94</td>\n",
       "      <td>33.4</td>\n",
       "    </tr>\n",
       "    <tr>\n",
       "      <th>4</th>\n",
       "      <td>0.06905</td>\n",
       "      <td>0.0</td>\n",
       "      <td>2.18</td>\n",
       "      <td>0</td>\n",
       "      <td>0.458</td>\n",
       "      <td>7.147</td>\n",
       "      <td>54.2</td>\n",
       "      <td>6.0622</td>\n",
       "      <td>3</td>\n",
       "      <td>222</td>\n",
       "      <td>18.7</td>\n",
       "      <td>396.90</td>\n",
       "      <td>5.33</td>\n",
       "      <td>36.2</td>\n",
       "    </tr>\n",
       "  </tbody>\n",
       "</table>\n",
       "</div>"
      ],
      "text/plain": [
       "      crim    zn  indus  chas    nox     rm   age     dis  rad  tax  ptratio  \\\n",
       "0  0.00632  18.0   2.31     0  0.538  6.575  65.2  4.0900    1  296     15.3   \n",
       "1  0.02731   0.0   7.07     0  0.469  6.421  78.9  4.9671    2  242     17.8   \n",
       "2  0.02729   0.0   7.07     0  0.469  7.185  61.1  4.9671    2  242     17.8   \n",
       "3  0.03237   0.0   2.18     0  0.458  6.998  45.8  6.0622    3  222     18.7   \n",
       "4  0.06905   0.0   2.18     0  0.458  7.147  54.2  6.0622    3  222     18.7   \n",
       "\n",
       "        b  lstat  medv  \n",
       "0  396.90   4.98  24.0  \n",
       "1  396.90   9.14  21.6  \n",
       "2  392.83   4.03  34.7  \n",
       "3  394.63   2.94  33.4  \n",
       "4  396.90   5.33  36.2  "
      ]
     },
     "execution_count": 53,
     "metadata": {},
     "output_type": "execute_result"
    }
   ],
   "source": [
    "df.head()"
   ]
  },
  {
   "cell_type": "code",
   "execution_count": 54,
   "id": "b3453415-35e8-4271-a1d0-36ea83e22e93",
   "metadata": {},
   "outputs": [
    {
     "data": {
      "text/plain": [
       "0"
      ]
     },
     "execution_count": 54,
     "metadata": {},
     "output_type": "execute_result"
    }
   ],
   "source": [
    "df.duplicated().sum()"
   ]
  },
  {
   "cell_type": "code",
   "execution_count": 55,
   "id": "a376182f-62fd-4348-a4c7-fcffa2dacf84",
   "metadata": {},
   "outputs": [
    {
     "name": "stdout",
     "output_type": "stream",
     "text": [
      "<class 'pandas.core.frame.DataFrame'>\n",
      "RangeIndex: 506 entries, 0 to 505\n",
      "Data columns (total 14 columns):\n",
      " #   Column   Non-Null Count  Dtype  \n",
      "---  ------   --------------  -----  \n",
      " 0   crim     506 non-null    float64\n",
      " 1   zn       506 non-null    float64\n",
      " 2   indus    506 non-null    float64\n",
      " 3   chas     506 non-null    int64  \n",
      " 4   nox      506 non-null    float64\n",
      " 5   rm       506 non-null    float64\n",
      " 6   age      506 non-null    float64\n",
      " 7   dis      506 non-null    float64\n",
      " 8   rad      506 non-null    int64  \n",
      " 9   tax      506 non-null    int64  \n",
      " 10  ptratio  506 non-null    float64\n",
      " 11  b        506 non-null    float64\n",
      " 12  lstat    506 non-null    float64\n",
      " 13  medv     506 non-null    float64\n",
      "dtypes: float64(11), int64(3)\n",
      "memory usage: 55.5 KB\n"
     ]
    }
   ],
   "source": [
    "df.info()"
   ]
  },
  {
   "cell_type": "code",
   "execution_count": 56,
   "id": "2509b87e-dce5-436b-8246-4b49183e7837",
   "metadata": {},
   "outputs": [],
   "source": [
    "# Here no need to do encoding as all are numerical variable since in LR we need num only"
   ]
  },
  {
   "cell_type": "code",
   "execution_count": 57,
   "id": "b0cbf92d-4fe9-4e0c-ae2e-e6fbba9598ce",
   "metadata": {},
   "outputs": [
    {
     "data": {
      "text/html": [
       "<div>\n",
       "<style scoped>\n",
       "    .dataframe tbody tr th:only-of-type {\n",
       "        vertical-align: middle;\n",
       "    }\n",
       "\n",
       "    .dataframe tbody tr th {\n",
       "        vertical-align: top;\n",
       "    }\n",
       "\n",
       "    .dataframe thead th {\n",
       "        text-align: right;\n",
       "    }\n",
       "</style>\n",
       "<table border=\"1\" class=\"dataframe\">\n",
       "  <thead>\n",
       "    <tr style=\"text-align: right;\">\n",
       "      <th></th>\n",
       "      <th>crim</th>\n",
       "      <th>zn</th>\n",
       "      <th>indus</th>\n",
       "      <th>chas</th>\n",
       "      <th>nox</th>\n",
       "      <th>rm</th>\n",
       "      <th>age</th>\n",
       "      <th>dis</th>\n",
       "      <th>rad</th>\n",
       "      <th>tax</th>\n",
       "      <th>ptratio</th>\n",
       "      <th>b</th>\n",
       "      <th>lstat</th>\n",
       "      <th>medv</th>\n",
       "    </tr>\n",
       "  </thead>\n",
       "  <tbody>\n",
       "    <tr>\n",
       "      <th>count</th>\n",
       "      <td>506.00</td>\n",
       "      <td>506.00</td>\n",
       "      <td>506.00</td>\n",
       "      <td>506.00</td>\n",
       "      <td>506.00</td>\n",
       "      <td>506.00</td>\n",
       "      <td>506.00</td>\n",
       "      <td>506.00</td>\n",
       "      <td>506.00</td>\n",
       "      <td>506.00</td>\n",
       "      <td>506.00</td>\n",
       "      <td>506.00</td>\n",
       "      <td>506.00</td>\n",
       "      <td>506.00</td>\n",
       "    </tr>\n",
       "    <tr>\n",
       "      <th>mean</th>\n",
       "      <td>3.61</td>\n",
       "      <td>11.36</td>\n",
       "      <td>11.14</td>\n",
       "      <td>0.07</td>\n",
       "      <td>0.55</td>\n",
       "      <td>6.28</td>\n",
       "      <td>68.57</td>\n",
       "      <td>3.80</td>\n",
       "      <td>9.55</td>\n",
       "      <td>408.24</td>\n",
       "      <td>18.46</td>\n",
       "      <td>356.67</td>\n",
       "      <td>12.65</td>\n",
       "      <td>22.53</td>\n",
       "    </tr>\n",
       "    <tr>\n",
       "      <th>std</th>\n",
       "      <td>8.60</td>\n",
       "      <td>23.32</td>\n",
       "      <td>6.86</td>\n",
       "      <td>0.25</td>\n",
       "      <td>0.12</td>\n",
       "      <td>0.70</td>\n",
       "      <td>28.15</td>\n",
       "      <td>2.11</td>\n",
       "      <td>8.71</td>\n",
       "      <td>168.54</td>\n",
       "      <td>2.16</td>\n",
       "      <td>91.29</td>\n",
       "      <td>7.14</td>\n",
       "      <td>9.20</td>\n",
       "    </tr>\n",
       "    <tr>\n",
       "      <th>min</th>\n",
       "      <td>0.01</td>\n",
       "      <td>0.00</td>\n",
       "      <td>0.46</td>\n",
       "      <td>0.00</td>\n",
       "      <td>0.38</td>\n",
       "      <td>3.56</td>\n",
       "      <td>2.90</td>\n",
       "      <td>1.13</td>\n",
       "      <td>1.00</td>\n",
       "      <td>187.00</td>\n",
       "      <td>12.60</td>\n",
       "      <td>0.32</td>\n",
       "      <td>1.73</td>\n",
       "      <td>5.00</td>\n",
       "    </tr>\n",
       "    <tr>\n",
       "      <th>25%</th>\n",
       "      <td>0.08</td>\n",
       "      <td>0.00</td>\n",
       "      <td>5.19</td>\n",
       "      <td>0.00</td>\n",
       "      <td>0.45</td>\n",
       "      <td>5.89</td>\n",
       "      <td>45.02</td>\n",
       "      <td>2.10</td>\n",
       "      <td>4.00</td>\n",
       "      <td>279.00</td>\n",
       "      <td>17.40</td>\n",
       "      <td>375.38</td>\n",
       "      <td>6.95</td>\n",
       "      <td>17.02</td>\n",
       "    </tr>\n",
       "    <tr>\n",
       "      <th>50%</th>\n",
       "      <td>0.26</td>\n",
       "      <td>0.00</td>\n",
       "      <td>9.69</td>\n",
       "      <td>0.00</td>\n",
       "      <td>0.54</td>\n",
       "      <td>6.21</td>\n",
       "      <td>77.50</td>\n",
       "      <td>3.21</td>\n",
       "      <td>5.00</td>\n",
       "      <td>330.00</td>\n",
       "      <td>19.05</td>\n",
       "      <td>391.44</td>\n",
       "      <td>11.36</td>\n",
       "      <td>21.20</td>\n",
       "    </tr>\n",
       "    <tr>\n",
       "      <th>75%</th>\n",
       "      <td>3.68</td>\n",
       "      <td>12.50</td>\n",
       "      <td>18.10</td>\n",
       "      <td>0.00</td>\n",
       "      <td>0.62</td>\n",
       "      <td>6.62</td>\n",
       "      <td>94.07</td>\n",
       "      <td>5.19</td>\n",
       "      <td>24.00</td>\n",
       "      <td>666.00</td>\n",
       "      <td>20.20</td>\n",
       "      <td>396.22</td>\n",
       "      <td>16.96</td>\n",
       "      <td>25.00</td>\n",
       "    </tr>\n",
       "    <tr>\n",
       "      <th>max</th>\n",
       "      <td>88.98</td>\n",
       "      <td>100.00</td>\n",
       "      <td>27.74</td>\n",
       "      <td>1.00</td>\n",
       "      <td>0.87</td>\n",
       "      <td>8.78</td>\n",
       "      <td>100.00</td>\n",
       "      <td>12.13</td>\n",
       "      <td>24.00</td>\n",
       "      <td>711.00</td>\n",
       "      <td>22.00</td>\n",
       "      <td>396.90</td>\n",
       "      <td>37.97</td>\n",
       "      <td>50.00</td>\n",
       "    </tr>\n",
       "  </tbody>\n",
       "</table>\n",
       "</div>"
      ],
      "text/plain": [
       "         crim      zn   indus    chas     nox      rm     age     dis     rad  \\\n",
       "count  506.00  506.00  506.00  506.00  506.00  506.00  506.00  506.00  506.00   \n",
       "mean     3.61   11.36   11.14    0.07    0.55    6.28   68.57    3.80    9.55   \n",
       "std      8.60   23.32    6.86    0.25    0.12    0.70   28.15    2.11    8.71   \n",
       "min      0.01    0.00    0.46    0.00    0.38    3.56    2.90    1.13    1.00   \n",
       "25%      0.08    0.00    5.19    0.00    0.45    5.89   45.02    2.10    4.00   \n",
       "50%      0.26    0.00    9.69    0.00    0.54    6.21   77.50    3.21    5.00   \n",
       "75%      3.68   12.50   18.10    0.00    0.62    6.62   94.07    5.19   24.00   \n",
       "max     88.98  100.00   27.74    1.00    0.87    8.78  100.00   12.13   24.00   \n",
       "\n",
       "          tax  ptratio       b   lstat    medv  \n",
       "count  506.00   506.00  506.00  506.00  506.00  \n",
       "mean   408.24    18.46  356.67   12.65   22.53  \n",
       "std    168.54     2.16   91.29    7.14    9.20  \n",
       "min    187.00    12.60    0.32    1.73    5.00  \n",
       "25%    279.00    17.40  375.38    6.95   17.02  \n",
       "50%    330.00    19.05  391.44   11.36   21.20  \n",
       "75%    666.00    20.20  396.22   16.96   25.00  \n",
       "max    711.00    22.00  396.90   37.97   50.00  "
      ]
     },
     "execution_count": 57,
     "metadata": {},
     "output_type": "execute_result"
    }
   ],
   "source": [
    "df.describe().round(2)"
   ]
  },
  {
   "cell_type": "code",
   "execution_count": 58,
   "id": "96709dca-aa9f-4c22-bb20-c66020b88cb4",
   "metadata": {},
   "outputs": [
    {
     "data": {
      "text/plain": [
       "crim       0\n",
       "zn         0\n",
       "indus      0\n",
       "chas       0\n",
       "nox        0\n",
       "rm         0\n",
       "age        0\n",
       "dis        0\n",
       "rad        0\n",
       "tax        0\n",
       "ptratio    0\n",
       "b          0\n",
       "lstat      0\n",
       "medv       0\n",
       "dtype: int64"
      ]
     },
     "execution_count": 58,
     "metadata": {},
     "output_type": "execute_result"
    }
   ],
   "source": [
    "df.isna().sum()"
   ]
  },
  {
   "cell_type": "code",
   "execution_count": 59,
   "id": "3b6fb5a6-4d73-41d2-b02c-fd81caca340a",
   "metadata": {},
   "outputs": [
    {
     "data": {
      "text/plain": [
       "crim       5.223149\n",
       "zn         2.225666\n",
       "indus      0.295022\n",
       "chas       3.405904\n",
       "nox        0.729308\n",
       "rm         0.403612\n",
       "age       -0.598963\n",
       "dis        1.011781\n",
       "rad        1.004815\n",
       "tax        0.669956\n",
       "ptratio   -0.802325\n",
       "b         -2.890374\n",
       "lstat      0.906460\n",
       "medv       1.108098\n",
       "dtype: float64"
      ]
     },
     "execution_count": 59,
     "metadata": {},
     "output_type": "execute_result"
    }
   ],
   "source": [
    "df.skew()    # to check data is noramlly distributed or not if skewness= o then its noramlly distributed here it is + skewness"
   ]
  },
  {
   "cell_type": "code",
   "execution_count": 60,
   "id": "b832ac6f-6ece-49b2-bbf3-a652237b656e",
   "metadata": {},
   "outputs": [
    {
     "data": {
      "image/png": "[encoded data removed]",
      "text/plain": [
       "<Figure size 640x480 with 1 Axes>"
      ]
     },
     "metadata": {},
     "output_type": "display_data"
    },
    {
     "data": {
      "image/png": "[encoded data removed]",
      "text/plain": [
       "<Figure size 640x480 with 1 Axes>"
      ]
     },
     "metadata": {},
     "output_type": "display_data"
    },
    {
     "data": {
      "image/png": "[encoded data removed]",
      "text/plain": [
       "<Figure size 640x480 with 1 Axes>"
      ]
     },
     "metadata": {},
     "output_type": "display_data"
    },
    {
     "data": {
      "image/png": "[encoded data removed]",
      "text/plain": [
       "<Figure size 640x480 with 1 Axes>"
      ]
     },
     "metadata": {},
     "output_type": "display_data"
    },
    {
     "data": {
      "image/png": "[encoded data removed]",
      "text/plain": [
       "<Figure size 640x480 with 1 Axes>"
      ]
     },
     "metadata": {},
     "output_type": "display_data"
    },
    {
     "data": {
      "image/png": "[encoded data removed]",
      "text/plain": [
       "<Figure size 640x480 with 1 Axes>"
      ]
     },
     "metadata": {},
     "output_type": "display_data"
    },
    {
     "data": {
      "image/png": "[encoded data removed]",
      "text/plain": [
       "<Figure size 640x480 with 1 Axes>"
      ]
     },
     "metadata": {},
     "output_type": "display_data"
    },
    {
     "data": {
      "image/png": "[encoded data removed]",
      "text/plain": [
       "<Figure size 640x480 with 1 Axes>"
      ]
     },
     "metadata": {},
     "output_type": "display_data"
    },
    {
     "data": {
      "image/png": "[encoded data removed]",
      "text/plain": [
       "<Figure size 640x480 with 1 Axes>"
      ]
     },
     "metadata": {},
     "output_type": "display_data"
    },
    {
     "data": {
      "image/png": "[encoded data removed]",
      "text/plain": [
       "<Figure size 640x480 with 1 Axes>"
      ]
     },
     "metadata": {},
     "output_type": "display_data"
    },
    {
     "data": {
      "image/png": "[encoded data removed]",
      "text/plain": [
       "<Figure size 640x480 with 1 Axes>"
      ]
     },
     "metadata": {},
     "output_type": "display_data"
    },
    {
     "data": {
      "image/png": "[encoded data removed]",
      "text/plain": [
       "<Figure size 640x480 with 1 Axes>"
      ]
     },
     "metadata": {},
     "output_type": "display_data"
    },
    {
     "data": {
      "image/png": "[encoded data removed]",
      "text/plain": [
       "<Figure size 640x480 with 1 Axes>"
      ]
     },
     "metadata": {},
     "output_type": "display_data"
    },
    {
     "data": {
      "image/png": "[encoded data removed]",
      "text/plain": [
       "<Figure size 640x480 with 1 Axes>"
      ]
     },
     "metadata": {},
     "output_type": "display_data"
    }
   ],
   "source": [
    "# checking outlier by boxplot\n",
    "# No need to to modify the DV( MEDV even if there are outlier)\n",
    "\n",
    "def boxplots(column):\n",
    "    sns.boxplot(df[column])\n",
    "    plt.show()\n",
    "\n",
    "for i in list(df.select_dtypes(exclude= ['object']).columns)[0:]:   # Though there is no object check in info()\n",
    "    boxplots(i)\n",
    "\n",
    "\n"
   ]
  },
  {
   "cell_type": "code",
   "execution_count": null,
   "id": "6c2fe935-5557-4924-bfcc-d487d4d047a4",
   "metadata": {},
   "outputs": [],
   "source": []
  },
  {
   "cell_type": "code",
   "execution_count": 61,
   "id": "b97c1cf4-b86f-4eb7-8f17-1e30ba8445f5",
   "metadata": {},
   "outputs": [],
   "source": [
    "\n",
    "\n",
    "# crime, zn, rm,b, need to perform outlier on these variables\n",
    "\n",
    "\n"
   ]
  },
  {
   "cell_type": "code",
   "execution_count": 62,
   "id": "dc06200b-8828-42a6-8a6f-1e2a59e2f7fd",
   "metadata": {},
   "outputs": [],
   "source": [
    "# checking Correlation before outlier- It shows the relationship of IV with DP how much it's impacting or how much that variable is important range (-1to1)"
   ]
  },
  {
   "cell_type": "code",
   "execution_count": 63,
   "id": "659bbcfe-d6c6-4992-b102-27d46ff5bda1",
   "metadata": {},
   "outputs": [
    {
     "data": {
      "text/html": [
       "<div>\n",
       "<style scoped>\n",
       "    .dataframe tbody tr th:only-of-type {\n",
       "        vertical-align: middle;\n",
       "    }\n",
       "\n",
       "    .dataframe tbody tr th {\n",
       "        vertical-align: top;\n",
       "    }\n",
       "\n",
       "    .dataframe thead th {\n",
       "        text-align: right;\n",
       "    }\n",
       "</style>\n",
       "<table border=\"1\" class=\"dataframe\">\n",
       "  <thead>\n",
       "    <tr style=\"text-align: right;\">\n",
       "      <th></th>\n",
       "      <th>crim</th>\n",
       "      <th>zn</th>\n",
       "      <th>indus</th>\n",
       "      <th>chas</th>\n",
       "      <th>nox</th>\n",
       "      <th>rm</th>\n",
       "      <th>age</th>\n",
       "      <th>dis</th>\n",
       "      <th>rad</th>\n",
       "      <th>tax</th>\n",
       "      <th>ptratio</th>\n",
       "      <th>b</th>\n",
       "      <th>lstat</th>\n",
       "      <th>medv</th>\n",
       "    </tr>\n",
       "  </thead>\n",
       "  <tbody>\n",
       "    <tr>\n",
       "      <th>crim</th>\n",
       "      <td>1.00</td>\n",
       "      <td>-0.20</td>\n",
       "      <td>0.41</td>\n",
       "      <td>-0.06</td>\n",
       "      <td>0.42</td>\n",
       "      <td>-0.22</td>\n",
       "      <td>0.35</td>\n",
       "      <td>-0.38</td>\n",
       "      <td>0.63</td>\n",
       "      <td>0.58</td>\n",
       "      <td>0.29</td>\n",
       "      <td>-0.39</td>\n",
       "      <td>0.46</td>\n",
       "      <td>-0.39</td>\n",
       "    </tr>\n",
       "    <tr>\n",
       "      <th>zn</th>\n",
       "      <td>-0.20</td>\n",
       "      <td>1.00</td>\n",
       "      <td>-0.53</td>\n",
       "      <td>-0.04</td>\n",
       "      <td>-0.52</td>\n",
       "      <td>0.31</td>\n",
       "      <td>-0.57</td>\n",
       "      <td>0.66</td>\n",
       "      <td>-0.31</td>\n",
       "      <td>-0.31</td>\n",
       "      <td>-0.39</td>\n",
       "      <td>0.18</td>\n",
       "      <td>-0.41</td>\n",
       "      <td>0.36</td>\n",
       "    </tr>\n",
       "    <tr>\n",
       "      <th>indus</th>\n",
       "      <td>0.41</td>\n",
       "      <td>-0.53</td>\n",
       "      <td>1.00</td>\n",
       "      <td>0.06</td>\n",
       "      <td>0.76</td>\n",
       "      <td>-0.39</td>\n",
       "      <td>0.64</td>\n",
       "      <td>-0.71</td>\n",
       "      <td>0.60</td>\n",
       "      <td>0.72</td>\n",
       "      <td>0.38</td>\n",
       "      <td>-0.36</td>\n",
       "      <td>0.60</td>\n",
       "      <td>-0.48</td>\n",
       "    </tr>\n",
       "    <tr>\n",
       "      <th>chas</th>\n",
       "      <td>-0.06</td>\n",
       "      <td>-0.04</td>\n",
       "      <td>0.06</td>\n",
       "      <td>1.00</td>\n",
       "      <td>0.09</td>\n",
       "      <td>0.09</td>\n",
       "      <td>0.09</td>\n",
       "      <td>-0.10</td>\n",
       "      <td>-0.01</td>\n",
       "      <td>-0.04</td>\n",
       "      <td>-0.12</td>\n",
       "      <td>0.05</td>\n",
       "      <td>-0.05</td>\n",
       "      <td>0.18</td>\n",
       "    </tr>\n",
       "    <tr>\n",
       "      <th>nox</th>\n",
       "      <td>0.42</td>\n",
       "      <td>-0.52</td>\n",
       "      <td>0.76</td>\n",
       "      <td>0.09</td>\n",
       "      <td>1.00</td>\n",
       "      <td>-0.30</td>\n",
       "      <td>0.73</td>\n",
       "      <td>-0.77</td>\n",
       "      <td>0.61</td>\n",
       "      <td>0.67</td>\n",
       "      <td>0.19</td>\n",
       "      <td>-0.38</td>\n",
       "      <td>0.59</td>\n",
       "      <td>-0.43</td>\n",
       "    </tr>\n",
       "    <tr>\n",
       "      <th>rm</th>\n",
       "      <td>-0.22</td>\n",
       "      <td>0.31</td>\n",
       "      <td>-0.39</td>\n",
       "      <td>0.09</td>\n",
       "      <td>-0.30</td>\n",
       "      <td>1.00</td>\n",
       "      <td>-0.24</td>\n",
       "      <td>0.21</td>\n",
       "      <td>-0.21</td>\n",
       "      <td>-0.29</td>\n",
       "      <td>-0.36</td>\n",
       "      <td>0.13</td>\n",
       "      <td>-0.61</td>\n",
       "      <td>0.70</td>\n",
       "    </tr>\n",
       "    <tr>\n",
       "      <th>age</th>\n",
       "      <td>0.35</td>\n",
       "      <td>-0.57</td>\n",
       "      <td>0.64</td>\n",
       "      <td>0.09</td>\n",
       "      <td>0.73</td>\n",
       "      <td>-0.24</td>\n",
       "      <td>1.00</td>\n",
       "      <td>-0.75</td>\n",
       "      <td>0.46</td>\n",
       "      <td>0.51</td>\n",
       "      <td>0.26</td>\n",
       "      <td>-0.27</td>\n",
       "      <td>0.60</td>\n",
       "      <td>-0.38</td>\n",
       "    </tr>\n",
       "    <tr>\n",
       "      <th>dis</th>\n",
       "      <td>-0.38</td>\n",
       "      <td>0.66</td>\n",
       "      <td>-0.71</td>\n",
       "      <td>-0.10</td>\n",
       "      <td>-0.77</td>\n",
       "      <td>0.21</td>\n",
       "      <td>-0.75</td>\n",
       "      <td>1.00</td>\n",
       "      <td>-0.49</td>\n",
       "      <td>-0.53</td>\n",
       "      <td>-0.23</td>\n",
       "      <td>0.29</td>\n",
       "      <td>-0.50</td>\n",
       "      <td>0.25</td>\n",
       "    </tr>\n",
       "    <tr>\n",
       "      <th>rad</th>\n",
       "      <td>0.63</td>\n",
       "      <td>-0.31</td>\n",
       "      <td>0.60</td>\n",
       "      <td>-0.01</td>\n",
       "      <td>0.61</td>\n",
       "      <td>-0.21</td>\n",
       "      <td>0.46</td>\n",
       "      <td>-0.49</td>\n",
       "      <td>1.00</td>\n",
       "      <td>0.91</td>\n",
       "      <td>0.46</td>\n",
       "      <td>-0.44</td>\n",
       "      <td>0.49</td>\n",
       "      <td>-0.38</td>\n",
       "    </tr>\n",
       "    <tr>\n",
       "      <th>tax</th>\n",
       "      <td>0.58</td>\n",
       "      <td>-0.31</td>\n",
       "      <td>0.72</td>\n",
       "      <td>-0.04</td>\n",
       "      <td>0.67</td>\n",
       "      <td>-0.29</td>\n",
       "      <td>0.51</td>\n",
       "      <td>-0.53</td>\n",
       "      <td>0.91</td>\n",
       "      <td>1.00</td>\n",
       "      <td>0.46</td>\n",
       "      <td>-0.44</td>\n",
       "      <td>0.54</td>\n",
       "      <td>-0.47</td>\n",
       "    </tr>\n",
       "    <tr>\n",
       "      <th>ptratio</th>\n",
       "      <td>0.29</td>\n",
       "      <td>-0.39</td>\n",
       "      <td>0.38</td>\n",
       "      <td>-0.12</td>\n",
       "      <td>0.19</td>\n",
       "      <td>-0.36</td>\n",
       "      <td>0.26</td>\n",
       "      <td>-0.23</td>\n",
       "      <td>0.46</td>\n",
       "      <td>0.46</td>\n",
       "      <td>1.00</td>\n",
       "      <td>-0.18</td>\n",
       "      <td>0.37</td>\n",
       "      <td>-0.51</td>\n",
       "    </tr>\n",
       "    <tr>\n",
       "      <th>b</th>\n",
       "      <td>-0.39</td>\n",
       "      <td>0.18</td>\n",
       "      <td>-0.36</td>\n",
       "      <td>0.05</td>\n",
       "      <td>-0.38</td>\n",
       "      <td>0.13</td>\n",
       "      <td>-0.27</td>\n",
       "      <td>0.29</td>\n",
       "      <td>-0.44</td>\n",
       "      <td>-0.44</td>\n",
       "      <td>-0.18</td>\n",
       "      <td>1.00</td>\n",
       "      <td>-0.37</td>\n",
       "      <td>0.33</td>\n",
       "    </tr>\n",
       "    <tr>\n",
       "      <th>lstat</th>\n",
       "      <td>0.46</td>\n",
       "      <td>-0.41</td>\n",
       "      <td>0.60</td>\n",
       "      <td>-0.05</td>\n",
       "      <td>0.59</td>\n",
       "      <td>-0.61</td>\n",
       "      <td>0.60</td>\n",
       "      <td>-0.50</td>\n",
       "      <td>0.49</td>\n",
       "      <td>0.54</td>\n",
       "      <td>0.37</td>\n",
       "      <td>-0.37</td>\n",
       "      <td>1.00</td>\n",
       "      <td>-0.74</td>\n",
       "    </tr>\n",
       "    <tr>\n",
       "      <th>medv</th>\n",
       "      <td>-0.39</td>\n",
       "      <td>0.36</td>\n",
       "      <td>-0.48</td>\n",
       "      <td>0.18</td>\n",
       "      <td>-0.43</td>\n",
       "      <td>0.70</td>\n",
       "      <td>-0.38</td>\n",
       "      <td>0.25</td>\n",
       "      <td>-0.38</td>\n",
       "      <td>-0.47</td>\n",
       "      <td>-0.51</td>\n",
       "      <td>0.33</td>\n",
       "      <td>-0.74</td>\n",
       "      <td>1.00</td>\n",
       "    </tr>\n",
       "  </tbody>\n",
       "</table>\n",
       "</div>"
      ],
      "text/plain": [
       "         crim    zn  indus  chas   nox    rm   age   dis   rad   tax  ptratio  \\\n",
       "crim     1.00 -0.20   0.41 -0.06  0.42 -0.22  0.35 -0.38  0.63  0.58     0.29   \n",
       "zn      -0.20  1.00  -0.53 -0.04 -0.52  0.31 -0.57  0.66 -0.31 -0.31    -0.39   \n",
       "indus    0.41 -0.53   1.00  0.06  0.76 -0.39  0.64 -0.71  0.60  0.72     0.38   \n",
       "chas    -0.06 -0.04   0.06  1.00  0.09  0.09  0.09 -0.10 -0.01 -0.04    -0.12   \n",
       "nox      0.42 -0.52   0.76  0.09  1.00 -0.30  0.73 -0.77  0.61  0.67     0.19   \n",
       "rm      -0.22  0.31  -0.39  0.09 -0.30  1.00 -0.24  0.21 -0.21 -0.29    -0.36   \n",
       "age      0.35 -0.57   0.64  0.09  0.73 -0.24  1.00 -0.75  0.46  0.51     0.26   \n",
       "dis     -0.38  0.66  -0.71 -0.10 -0.77  0.21 -0.75  1.00 -0.49 -0.53    -0.23   \n",
       "rad      0.63 -0.31   0.60 -0.01  0.61 -0.21  0.46 -0.49  1.00  0.91     0.46   \n",
       "tax      0.58 -0.31   0.72 -0.04  0.67 -0.29  0.51 -0.53  0.91  1.00     0.46   \n",
       "ptratio  0.29 -0.39   0.38 -0.12  0.19 -0.36  0.26 -0.23  0.46  0.46     1.00   \n",
       "b       -0.39  0.18  -0.36  0.05 -0.38  0.13 -0.27  0.29 -0.44 -0.44    -0.18   \n",
       "lstat    0.46 -0.41   0.60 -0.05  0.59 -0.61  0.60 -0.50  0.49  0.54     0.37   \n",
       "medv    -0.39  0.36  -0.48  0.18 -0.43  0.70 -0.38  0.25 -0.38 -0.47    -0.51   \n",
       "\n",
       "            b  lstat  medv  \n",
       "crim    -0.39   0.46 -0.39  \n",
       "zn       0.18  -0.41  0.36  \n",
       "indus   -0.36   0.60 -0.48  \n",
       "chas     0.05  -0.05  0.18  \n",
       "nox     -0.38   0.59 -0.43  \n",
       "rm       0.13  -0.61  0.70  \n",
       "age     -0.27   0.60 -0.38  \n",
       "dis      0.29  -0.50  0.25  \n",
       "rad     -0.44   0.49 -0.38  \n",
       "tax     -0.44   0.54 -0.47  \n",
       "ptratio -0.18   0.37 -0.51  \n",
       "b        1.00  -0.37  0.33  \n",
       "lstat   -0.37   1.00 -0.74  \n",
       "medv     0.33  -0.74  1.00  "
      ]
     },
     "execution_count": 63,
     "metadata": {},
     "output_type": "execute_result"
    }
   ],
   "source": [
    "df.corr().round(2)"
   ]
  },
  {
   "cell_type": "code",
   "execution_count": 64,
   "id": "076371e7-f619-40c9-ab86-70c2851d628e",
   "metadata": {},
   "outputs": [
    {
     "data": {
      "image/png": "[encoded data removed]",
      "text/plain": [
       "<Figure size 640x480 with 2 Axes>"
      ]
     },
     "metadata": {},
     "output_type": "display_data"
    }
   ],
   "source": [
    "sns.heatmap(df.corr().round(2), annot=True, cmap='coolwarm')\n",
    "plt.show()"
   ]
  },
  {
   "cell_type": "code",
   "execution_count": 65,
   "id": "fa481afd-8d94-4b70-a545-80d7591c92aa",
   "metadata": {},
   "outputs": [
    {
     "data": {
      "text/html": [
       "<div>\n",
       "<style scoped>\n",
       "    .dataframe tbody tr th:only-of-type {\n",
       "        vertical-align: middle;\n",
       "    }\n",
       "\n",
       "    .dataframe tbody tr th {\n",
       "        vertical-align: top;\n",
       "    }\n",
       "\n",
       "    .dataframe thead th {\n",
       "        text-align: right;\n",
       "    }\n",
       "</style>\n",
       "<table border=\"1\" class=\"dataframe\">\n",
       "  <thead>\n",
       "    <tr style=\"text-align: right;\">\n",
       "      <th></th>\n",
       "      <th>crim</th>\n",
       "      <th>zn</th>\n",
       "      <th>indus</th>\n",
       "      <th>chas</th>\n",
       "      <th>nox</th>\n",
       "      <th>rm</th>\n",
       "      <th>age</th>\n",
       "      <th>dis</th>\n",
       "      <th>rad</th>\n",
       "      <th>tax</th>\n",
       "      <th>ptratio</th>\n",
       "      <th>b</th>\n",
       "      <th>lstat</th>\n",
       "      <th>medv</th>\n",
       "    </tr>\n",
       "  </thead>\n",
       "  <tbody>\n",
       "    <tr>\n",
       "      <th>crim</th>\n",
       "      <td>1.0</td>\n",
       "      <td>NaN</td>\n",
       "      <td>NaN</td>\n",
       "      <td>NaN</td>\n",
       "      <td>NaN</td>\n",
       "      <td>NaN</td>\n",
       "      <td>NaN</td>\n",
       "      <td>NaN</td>\n",
       "      <td>NaN</td>\n",
       "      <td>NaN</td>\n",
       "      <td>NaN</td>\n",
       "      <td>NaN</td>\n",
       "      <td>NaN</td>\n",
       "      <td>NaN</td>\n",
       "    </tr>\n",
       "    <tr>\n",
       "      <th>zn</th>\n",
       "      <td>NaN</td>\n",
       "      <td>1.0</td>\n",
       "      <td>NaN</td>\n",
       "      <td>NaN</td>\n",
       "      <td>NaN</td>\n",
       "      <td>NaN</td>\n",
       "      <td>NaN</td>\n",
       "      <td>NaN</td>\n",
       "      <td>NaN</td>\n",
       "      <td>NaN</td>\n",
       "      <td>NaN</td>\n",
       "      <td>NaN</td>\n",
       "      <td>NaN</td>\n",
       "      <td>NaN</td>\n",
       "    </tr>\n",
       "    <tr>\n",
       "      <th>indus</th>\n",
       "      <td>NaN</td>\n",
       "      <td>NaN</td>\n",
       "      <td>1.00</td>\n",
       "      <td>NaN</td>\n",
       "      <td>0.76</td>\n",
       "      <td>NaN</td>\n",
       "      <td>NaN</td>\n",
       "      <td>-0.71</td>\n",
       "      <td>NaN</td>\n",
       "      <td>0.72</td>\n",
       "      <td>NaN</td>\n",
       "      <td>NaN</td>\n",
       "      <td>NaN</td>\n",
       "      <td>NaN</td>\n",
       "    </tr>\n",
       "    <tr>\n",
       "      <th>chas</th>\n",
       "      <td>NaN</td>\n",
       "      <td>NaN</td>\n",
       "      <td>NaN</td>\n",
       "      <td>1.0</td>\n",
       "      <td>NaN</td>\n",
       "      <td>NaN</td>\n",
       "      <td>NaN</td>\n",
       "      <td>NaN</td>\n",
       "      <td>NaN</td>\n",
       "      <td>NaN</td>\n",
       "      <td>NaN</td>\n",
       "      <td>NaN</td>\n",
       "      <td>NaN</td>\n",
       "      <td>NaN</td>\n",
       "    </tr>\n",
       "    <tr>\n",
       "      <th>nox</th>\n",
       "      <td>NaN</td>\n",
       "      <td>NaN</td>\n",
       "      <td>0.76</td>\n",
       "      <td>NaN</td>\n",
       "      <td>1.00</td>\n",
       "      <td>NaN</td>\n",
       "      <td>0.73</td>\n",
       "      <td>-0.77</td>\n",
       "      <td>NaN</td>\n",
       "      <td>NaN</td>\n",
       "      <td>NaN</td>\n",
       "      <td>NaN</td>\n",
       "      <td>NaN</td>\n",
       "      <td>NaN</td>\n",
       "    </tr>\n",
       "    <tr>\n",
       "      <th>rm</th>\n",
       "      <td>NaN</td>\n",
       "      <td>NaN</td>\n",
       "      <td>NaN</td>\n",
       "      <td>NaN</td>\n",
       "      <td>NaN</td>\n",
       "      <td>1.0</td>\n",
       "      <td>NaN</td>\n",
       "      <td>NaN</td>\n",
       "      <td>NaN</td>\n",
       "      <td>NaN</td>\n",
       "      <td>NaN</td>\n",
       "      <td>NaN</td>\n",
       "      <td>NaN</td>\n",
       "      <td>NaN</td>\n",
       "    </tr>\n",
       "    <tr>\n",
       "      <th>age</th>\n",
       "      <td>NaN</td>\n",
       "      <td>NaN</td>\n",
       "      <td>NaN</td>\n",
       "      <td>NaN</td>\n",
       "      <td>0.73</td>\n",
       "      <td>NaN</td>\n",
       "      <td>1.00</td>\n",
       "      <td>-0.75</td>\n",
       "      <td>NaN</td>\n",
       "      <td>NaN</td>\n",
       "      <td>NaN</td>\n",
       "      <td>NaN</td>\n",
       "      <td>NaN</td>\n",
       "      <td>NaN</td>\n",
       "    </tr>\n",
       "    <tr>\n",
       "      <th>dis</th>\n",
       "      <td>NaN</td>\n",
       "      <td>NaN</td>\n",
       "      <td>-0.71</td>\n",
       "      <td>NaN</td>\n",
       "      <td>-0.77</td>\n",
       "      <td>NaN</td>\n",
       "      <td>-0.75</td>\n",
       "      <td>1.00</td>\n",
       "      <td>NaN</td>\n",
       "      <td>NaN</td>\n",
       "      <td>NaN</td>\n",
       "      <td>NaN</td>\n",
       "      <td>NaN</td>\n",
       "      <td>NaN</td>\n",
       "    </tr>\n",
       "    <tr>\n",
       "      <th>rad</th>\n",
       "      <td>NaN</td>\n",
       "      <td>NaN</td>\n",
       "      <td>NaN</td>\n",
       "      <td>NaN</td>\n",
       "      <td>NaN</td>\n",
       "      <td>NaN</td>\n",
       "      <td>NaN</td>\n",
       "      <td>NaN</td>\n",
       "      <td>1.00</td>\n",
       "      <td>0.91</td>\n",
       "      <td>NaN</td>\n",
       "      <td>NaN</td>\n",
       "      <td>NaN</td>\n",
       "      <td>NaN</td>\n",
       "    </tr>\n",
       "    <tr>\n",
       "      <th>tax</th>\n",
       "      <td>NaN</td>\n",
       "      <td>NaN</td>\n",
       "      <td>0.72</td>\n",
       "      <td>NaN</td>\n",
       "      <td>NaN</td>\n",
       "      <td>NaN</td>\n",
       "      <td>NaN</td>\n",
       "      <td>NaN</td>\n",
       "      <td>0.91</td>\n",
       "      <td>1.00</td>\n",
       "      <td>NaN</td>\n",
       "      <td>NaN</td>\n",
       "      <td>NaN</td>\n",
       "      <td>NaN</td>\n",
       "    </tr>\n",
       "    <tr>\n",
       "      <th>ptratio</th>\n",
       "      <td>NaN</td>\n",
       "      <td>NaN</td>\n",
       "      <td>NaN</td>\n",
       "      <td>NaN</td>\n",
       "      <td>NaN</td>\n",
       "      <td>NaN</td>\n",
       "      <td>NaN</td>\n",
       "      <td>NaN</td>\n",
       "      <td>NaN</td>\n",
       "      <td>NaN</td>\n",
       "      <td>1.0</td>\n",
       "      <td>NaN</td>\n",
       "      <td>NaN</td>\n",
       "      <td>NaN</td>\n",
       "    </tr>\n",
       "    <tr>\n",
       "      <th>b</th>\n",
       "      <td>NaN</td>\n",
       "      <td>NaN</td>\n",
       "      <td>NaN</td>\n",
       "      <td>NaN</td>\n",
       "      <td>NaN</td>\n",
       "      <td>NaN</td>\n",
       "      <td>NaN</td>\n",
       "      <td>NaN</td>\n",
       "      <td>NaN</td>\n",
       "      <td>NaN</td>\n",
       "      <td>NaN</td>\n",
       "      <td>1.0</td>\n",
       "      <td>NaN</td>\n",
       "      <td>NaN</td>\n",
       "    </tr>\n",
       "    <tr>\n",
       "      <th>lstat</th>\n",
       "      <td>NaN</td>\n",
       "      <td>NaN</td>\n",
       "      <td>NaN</td>\n",
       "      <td>NaN</td>\n",
       "      <td>NaN</td>\n",
       "      <td>NaN</td>\n",
       "      <td>NaN</td>\n",
       "      <td>NaN</td>\n",
       "      <td>NaN</td>\n",
       "      <td>NaN</td>\n",
       "      <td>NaN</td>\n",
       "      <td>NaN</td>\n",
       "      <td>1.00</td>\n",
       "      <td>-0.74</td>\n",
       "    </tr>\n",
       "    <tr>\n",
       "      <th>medv</th>\n",
       "      <td>NaN</td>\n",
       "      <td>NaN</td>\n",
       "      <td>NaN</td>\n",
       "      <td>NaN</td>\n",
       "      <td>NaN</td>\n",
       "      <td>NaN</td>\n",
       "      <td>NaN</td>\n",
       "      <td>NaN</td>\n",
       "      <td>NaN</td>\n",
       "      <td>NaN</td>\n",
       "      <td>NaN</td>\n",
       "      <td>NaN</td>\n",
       "      <td>-0.74</td>\n",
       "      <td>1.00</td>\n",
       "    </tr>\n",
       "  </tbody>\n",
       "</table>\n",
       "</div>"
      ],
      "text/plain": [
       "         crim   zn  indus  chas   nox   rm   age   dis   rad   tax  ptratio  \\\n",
       "crim      1.0  NaN    NaN   NaN   NaN  NaN   NaN   NaN   NaN   NaN      NaN   \n",
       "zn        NaN  1.0    NaN   NaN   NaN  NaN   NaN   NaN   NaN   NaN      NaN   \n",
       "indus     NaN  NaN   1.00   NaN  0.76  NaN   NaN -0.71   NaN  0.72      NaN   \n",
       "chas      NaN  NaN    NaN   1.0   NaN  NaN   NaN   NaN   NaN   NaN      NaN   \n",
       "nox       NaN  NaN   0.76   NaN  1.00  NaN  0.73 -0.77   NaN   NaN      NaN   \n",
       "rm        NaN  NaN    NaN   NaN   NaN  1.0   NaN   NaN   NaN   NaN      NaN   \n",
       "age       NaN  NaN    NaN   NaN  0.73  NaN  1.00 -0.75   NaN   NaN      NaN   \n",
       "dis       NaN  NaN  -0.71   NaN -0.77  NaN -0.75  1.00   NaN   NaN      NaN   \n",
       "rad       NaN  NaN    NaN   NaN   NaN  NaN   NaN   NaN  1.00  0.91      NaN   \n",
       "tax       NaN  NaN   0.72   NaN   NaN  NaN   NaN   NaN  0.91  1.00      NaN   \n",
       "ptratio   NaN  NaN    NaN   NaN   NaN  NaN   NaN   NaN   NaN   NaN      1.0   \n",
       "b         NaN  NaN    NaN   NaN   NaN  NaN   NaN   NaN   NaN   NaN      NaN   \n",
       "lstat     NaN  NaN    NaN   NaN   NaN  NaN   NaN   NaN   NaN   NaN      NaN   \n",
       "medv      NaN  NaN    NaN   NaN   NaN  NaN   NaN   NaN   NaN   NaN      NaN   \n",
       "\n",
       "           b  lstat  medv  \n",
       "crim     NaN    NaN   NaN  \n",
       "zn       NaN    NaN   NaN  \n",
       "indus    NaN    NaN   NaN  \n",
       "chas     NaN    NaN   NaN  \n",
       "nox      NaN    NaN   NaN  \n",
       "rm       NaN    NaN   NaN  \n",
       "age      NaN    NaN   NaN  \n",
       "dis      NaN    NaN   NaN  \n",
       "rad      NaN    NaN   NaN  \n",
       "tax      NaN    NaN   NaN  \n",
       "ptratio  NaN    NaN   NaN  \n",
       "b        1.0    NaN   NaN  \n",
       "lstat    NaN   1.00 -0.74  \n",
       "medv     NaN  -0.74  1.00  "
      ]
     },
     "execution_count": 65,
     "metadata": {},
     "output_type": "execute_result"
    }
   ],
   "source": [
    "# No need to modify the data we can see rm - 0.70 and lstat = -0.74\t it means it's grater than 70% so it is multicolliar which is not accepted in LR model\n",
    "# Best method  to find colliniarity is VIF\n",
    "\n",
    "corr_matrix = df.corr().round(2)\n",
    "corr_matrix[np.abs(corr_matrix)>0.7]"
   ]
  },
  {
   "cell_type": "markdown",
   "id": "5b6d99bf-27c6-4b45-a235-b8d2f55d7dca",
   "metadata": {},
   "source": [
    "## Preprocessing Part"
   ]
  },
  {
   "cell_type": "code",
   "execution_count": 67,
   "id": "ad4afc8e-95cc-469a-aabb-13a655524c83",
   "metadata": {},
   "outputs": [
    {
     "data": {
      "text/plain": [
       "'\\n1. Cleaning (duplicates)  and Handling missing values\\n2. Encoding concept\\n3. Outlier treatment\\n4. Feature Scaling\\n'"
      ]
     },
     "execution_count": 67,
     "metadata": {},
     "output_type": "execute_result"
    }
   ],
   "source": [
    "\"\"\"\n",
    "1. Cleaning (duplicates)  and Handling missing values\n",
    "2. Encoding concept\n",
    "3. Outlier treatment\n",
    "4. Feature Scaling\n",
    "\"\"\""
   ]
  },
  {
   "cell_type": "code",
   "execution_count": 68,
   "id": "228ad251-373e-47b8-89d5-2da2c3e9ffae",
   "metadata": {},
   "outputs": [
    {
     "data": {
      "text/plain": [
       "0"
      ]
     },
     "execution_count": 68,
     "metadata": {},
     "output_type": "execute_result"
    }
   ],
   "source": [
    "df.duplicated().sum()"
   ]
  },
  {
   "cell_type": "code",
   "execution_count": 69,
   "id": "b30b5bcd-5259-41c2-85de-37db94724dda",
   "metadata": {},
   "outputs": [
    {
     "data": {
      "text/plain": [
       "crim       0\n",
       "zn         0\n",
       "indus      0\n",
       "chas       0\n",
       "nox        0\n",
       "rm         0\n",
       "age        0\n",
       "dis        0\n",
       "rad        0\n",
       "tax        0\n",
       "ptratio    0\n",
       "b          0\n",
       "lstat      0\n",
       "medv       0\n",
       "dtype: int64"
      ]
     },
     "execution_count": 69,
     "metadata": {},
     "output_type": "execute_result"
    }
   ],
   "source": [
    "df.isnull().sum()"
   ]
  },
  {
   "cell_type": "code",
   "execution_count": 70,
   "id": "7fd29103-42c6-4f09-83fe-5d296257efd3",
   "metadata": {},
   "outputs": [
    {
     "name": "stdout",
     "output_type": "stream",
     "text": [
      "<class 'pandas.core.frame.DataFrame'>\n",
      "RangeIndex: 506 entries, 0 to 505\n",
      "Data columns (total 14 columns):\n",
      " #   Column   Non-Null Count  Dtype  \n",
      "---  ------   --------------  -----  \n",
      " 0   crim     506 non-null    float64\n",
      " 1   zn       506 non-null    float64\n",
      " 2   indus    506 non-null    float64\n",
      " 3   chas     506 non-null    int64  \n",
      " 4   nox      506 non-null    float64\n",
      " 5   rm       506 non-null    float64\n",
      " 6   age      506 non-null    float64\n",
      " 7   dis      506 non-null    float64\n",
      " 8   rad      506 non-null    int64  \n",
      " 9   tax      506 non-null    int64  \n",
      " 10  ptratio  506 non-null    float64\n",
      " 11  b        506 non-null    float64\n",
      " 12  lstat    506 non-null    float64\n",
      " 13  medv     506 non-null    float64\n",
      "dtypes: float64(11), int64(3)\n",
      "memory usage: 55.5 KB\n"
     ]
    }
   ],
   "source": [
    "df.info()"
   ]
  },
  {
   "cell_type": "code",
   "execution_count": 71,
   "id": "3de5c349-3b20-45ac-8433-d6d77782b942",
   "metadata": {},
   "outputs": [],
   "source": [
    "# Encoding is not required in this dataset"
   ]
  },
  {
   "cell_type": "code",
   "execution_count": 72,
   "id": "c90f4b34-4363-476a-b2a3-d3820b71e507",
   "metadata": {},
   "outputs": [
    {
     "data": {
      "text/plain": [
       "count    506.00\n",
       "mean       3.61\n",
       "std        8.60\n",
       "min        0.01\n",
       "25%        0.08\n",
       "50%        0.26\n",
       "75%        3.68\n",
       "max       88.98\n",
       "Name: crim, dtype: float64"
      ]
     },
     "execution_count": 72,
     "metadata": {},
     "output_type": "execute_result"
    }
   ],
   "source": [
    "# crim, zn, rm,b, need to perform outlier on these variables\n",
    "# using IQR method for outlier\n",
    "\n",
    "df['crim'].describe().round(2)\n"
   ]
  },
  {
   "cell_type": "code",
   "execution_count": 73,
   "id": "b16f1778-d071-4d25-a438-823b98de5468",
   "metadata": {},
   "outputs": [],
   "source": [
    "Q1= 0.08\n",
    "Q3= 3.68\n",
    "IQR= Q3-Q1\n",
    "upper_limit= Q3 + 1.5*IQR\n",
    "df['crim']=np.where(df['crim']> upper_limit, upper_limit,df['crim'])"
   ]
  },
  {
   "cell_type": "code",
   "execution_count": 74,
   "id": "bcb04703-6ca1-448f-a858-c0776b77b9be",
   "metadata": {},
   "outputs": [
    {
     "data": {
      "text/plain": [
       "count    506.00\n",
       "mean      11.36\n",
       "std       23.32\n",
       "min        0.00\n",
       "25%        0.00\n",
       "50%        0.00\n",
       "75%       12.50\n",
       "max      100.00\n",
       "Name: zn, dtype: float64"
      ]
     },
     "execution_count": 74,
     "metadata": {},
     "output_type": "execute_result"
    }
   ],
   "source": [
    "df['zn'].describe().round(2)"
   ]
  },
  {
   "cell_type": "code",
   "execution_count": 75,
   "id": "5b015d40-2942-481a-8413-4fe4b66953a6",
   "metadata": {},
   "outputs": [],
   "source": [
    "q1= 0\n",
    "q3= 12.50\n",
    "iqr=q3-q1\n",
    "upper_limit=q3 + 1.5 *iqr\n",
    "df['zn']=np.where(df['zn']>upper_limit, upper_limit,df['zn'] )"
   ]
  },
  {
   "cell_type": "code",
   "execution_count": 76,
   "id": "acdf10d2-0434-4b50-9ca3-70b92f230490",
   "metadata": {},
   "outputs": [
    {
     "data": {
      "text/plain": [
       "count    506.00\n",
       "mean       6.28\n",
       "std        0.70\n",
       "min        3.56\n",
       "25%        5.89\n",
       "50%        6.21\n",
       "75%        6.62\n",
       "max        8.78\n",
       "Name: rm, dtype: float64"
      ]
     },
     "execution_count": 76,
     "metadata": {},
     "output_type": "execute_result"
    }
   ],
   "source": [
    "df['rm'].describe().round(2)"
   ]
  },
  {
   "cell_type": "code",
   "execution_count": 77,
   "id": "60fed502-efb8-457b-ab14-73e44d207331",
   "metadata": {},
   "outputs": [],
   "source": [
    "q1= 5.89\n",
    "q3= 6.62\n",
    "iqr= q3-q1\n",
    "upper_limit= q3 + 1.5*iqr\n",
    "df['rm']=np.where(df['rm']> upper_limit, upper_limit, df['rm'])"
   ]
  },
  {
   "cell_type": "code",
   "execution_count": 78,
   "id": "b2e6f9db-1af7-4923-ad97-c85e61664c0d",
   "metadata": {},
   "outputs": [
    {
     "data": {
      "text/plain": [
       "count    506.00\n",
       "mean     356.67\n",
       "std       91.29\n",
       "min        0.32\n",
       "25%      375.38\n",
       "50%      391.44\n",
       "75%      396.22\n",
       "max      396.90\n",
       "Name: b, dtype: float64"
      ]
     },
     "execution_count": 78,
     "metadata": {},
     "output_type": "execute_result"
    }
   ],
   "source": [
    "df['b'].describe().round(2)"
   ]
  },
  {
   "cell_type": "code",
   "execution_count": 79,
   "id": "a4b24b07-eda7-4d83-9bd4-34eaec4f02f9",
   "metadata": {},
   "outputs": [],
   "source": [
    "q1= 375.38\n",
    "q3= 396.22\n",
    "iqr= q3-q1\n",
    "lower_limit= q3 - 1.5*iqr\n",
    "df['b']= np.where(df['b']<lower_limit, lower_limit,df['b'] )"
   ]
  },
  {
   "cell_type": "code",
   "execution_count": 80,
   "id": "02007f29-3559-4b42-a260-34426363d040",
   "metadata": {},
   "outputs": [
    {
     "data": {
      "image/png": "[encoded data removed]",
      "text/plain": [
       "<Figure size 640x480 with 1 Axes>"
      ]
     },
     "metadata": {},
     "output_type": "display_data"
    },
    {
     "data": {
      "image/png": "[encoded data removed]",
      "text/plain": [
       "<Figure size 640x480 with 1 Axes>"
      ]
     },
     "metadata": {},
     "output_type": "display_data"
    },
    {
     "data": {
      "image/png": "[encoded data removed]",
      "text/plain": [
       "<Figure size 640x480 with 1 Axes>"
      ]
     },
     "metadata": {},
     "output_type": "display_data"
    },
    {
     "data": {
      "image/png": "[encoded data removed]",
      "text/plain": [
       "<Figure size 640x480 with 1 Axes>"
      ]
     },
     "metadata": {},
     "output_type": "display_data"
    },
    {
     "data": {
      "image/png": "[encoded data removed]",
      "text/plain": [
       "<Figure size 640x480 with 1 Axes>"
      ]
     },
     "metadata": {},
     "output_type": "display_data"
    },
    {
     "data": {
      "image/png": "[encoded data removed]",
      "text/plain": [
       "<Figure size 640x480 with 1 Axes>"
      ]
     },
     "metadata": {},
     "output_type": "display_data"
    },
    {
     "data": {
      "image/png": "[encoded data removed]",
      "text/plain": [
       "<Figure size 640x480 with 1 Axes>"
      ]
     },
     "metadata": {},
     "output_type": "display_data"
    },
    {
     "data": {
      "image/png": "[encoded data removed]",
      "text/plain": [
       "<Figure size 640x480 with 1 Axes>"
      ]
     },
     "metadata": {},
     "output_type": "display_data"
    },
    {
     "data": {
      "image/png": "[encoded data removed]",
      "text/plain": [
       "<Figure size 640x480 with 1 Axes>"
      ]
     },
     "metadata": {},
     "output_type": "display_data"
    },
    {
     "data": {
      "image/png": "[encoded data removed]",
      "text/plain": [
       "<Figure size 640x480 with 1 Axes>"
      ]
     },
     "metadata": {},
     "output_type": "display_data"
    },
    {
     "data": {
      "image/png": "[encoded data removed]",
      "text/plain": [
       "<Figure size 640x480 with 1 Axes>"
      ]
     },
     "metadata": {},
     "output_type": "display_data"
    },
    {
     "data": {
      "image/png": "[encoded data removed]",
      "text/plain": [
       "<Figure size 640x480 with 1 Axes>"
      ]
     },
     "metadata": {},
     "output_type": "display_data"
    },
    {
     "data": {
      "image/png": "[encoded data removed]",
      "text/plain": [
       "<Figure size 640x480 with 1 Axes>"
      ]
     },
     "metadata": {},
     "output_type": "display_data"
    },
    {
     "data": {
      "image/png": "[encoded data removed]",
      "text/plain": [
       "<Figure size 640x480 with 1 Axes>"
      ]
     },
     "metadata": {},
     "output_type": "display_data"
    }
   ],
   "source": [
    "# outlier treatment done now checking again by boxplot\n",
    "\n",
    "def boxplots(col):\n",
    "    sns.boxplot(df[col])\n",
    "    plt.show()\n",
    "\n",
    "for i in list(df.select_dtypes(exclude=['object']).columns)[0:]:\n",
    "    boxplots(i)"
   ]
  },
  {
   "cell_type": "code",
   "execution_count": 81,
   "id": "24a8510d-9907-45f0-831c-0f8f4f961577",
   "metadata": {},
   "outputs": [
    {
     "data": {
      "text/html": [
       "<div>\n",
       "<style scoped>\n",
       "    .dataframe tbody tr th:only-of-type {\n",
       "        vertical-align: middle;\n",
       "    }\n",
       "\n",
       "    .dataframe tbody tr th {\n",
       "        vertical-align: top;\n",
       "    }\n",
       "\n",
       "    .dataframe thead th {\n",
       "        text-align: right;\n",
       "    }\n",
       "</style>\n",
       "<table border=\"1\" class=\"dataframe\">\n",
       "  <thead>\n",
       "    <tr style=\"text-align: right;\">\n",
       "      <th></th>\n",
       "      <th>crim</th>\n",
       "      <th>zn</th>\n",
       "      <th>indus</th>\n",
       "      <th>chas</th>\n",
       "      <th>nox</th>\n",
       "      <th>rm</th>\n",
       "      <th>age</th>\n",
       "      <th>dis</th>\n",
       "      <th>rad</th>\n",
       "      <th>tax</th>\n",
       "      <th>ptratio</th>\n",
       "      <th>b</th>\n",
       "      <th>lstat</th>\n",
       "      <th>medv</th>\n",
       "    </tr>\n",
       "  </thead>\n",
       "  <tbody>\n",
       "    <tr>\n",
       "      <th>0</th>\n",
       "      <td>0.00632</td>\n",
       "      <td>18.0</td>\n",
       "      <td>2.31</td>\n",
       "      <td>0</td>\n",
       "      <td>0.538</td>\n",
       "      <td>6.575</td>\n",
       "      <td>65.2</td>\n",
       "      <td>4.0900</td>\n",
       "      <td>1</td>\n",
       "      <td>296</td>\n",
       "      <td>15.3</td>\n",
       "      <td>396.90</td>\n",
       "      <td>4.98</td>\n",
       "      <td>24.0</td>\n",
       "    </tr>\n",
       "    <tr>\n",
       "      <th>1</th>\n",
       "      <td>0.02731</td>\n",
       "      <td>0.0</td>\n",
       "      <td>7.07</td>\n",
       "      <td>0</td>\n",
       "      <td>0.469</td>\n",
       "      <td>6.421</td>\n",
       "      <td>78.9</td>\n",
       "      <td>4.9671</td>\n",
       "      <td>2</td>\n",
       "      <td>242</td>\n",
       "      <td>17.8</td>\n",
       "      <td>396.90</td>\n",
       "      <td>9.14</td>\n",
       "      <td>21.6</td>\n",
       "    </tr>\n",
       "    <tr>\n",
       "      <th>2</th>\n",
       "      <td>0.02729</td>\n",
       "      <td>0.0</td>\n",
       "      <td>7.07</td>\n",
       "      <td>0</td>\n",
       "      <td>0.469</td>\n",
       "      <td>7.185</td>\n",
       "      <td>61.1</td>\n",
       "      <td>4.9671</td>\n",
       "      <td>2</td>\n",
       "      <td>242</td>\n",
       "      <td>17.8</td>\n",
       "      <td>392.83</td>\n",
       "      <td>4.03</td>\n",
       "      <td>34.7</td>\n",
       "    </tr>\n",
       "    <tr>\n",
       "      <th>3</th>\n",
       "      <td>0.03237</td>\n",
       "      <td>0.0</td>\n",
       "      <td>2.18</td>\n",
       "      <td>0</td>\n",
       "      <td>0.458</td>\n",
       "      <td>6.998</td>\n",
       "      <td>45.8</td>\n",
       "      <td>6.0622</td>\n",
       "      <td>3</td>\n",
       "      <td>222</td>\n",
       "      <td>18.7</td>\n",
       "      <td>394.63</td>\n",
       "      <td>2.94</td>\n",
       "      <td>33.4</td>\n",
       "    </tr>\n",
       "    <tr>\n",
       "      <th>4</th>\n",
       "      <td>0.06905</td>\n",
       "      <td>0.0</td>\n",
       "      <td>2.18</td>\n",
       "      <td>0</td>\n",
       "      <td>0.458</td>\n",
       "      <td>7.147</td>\n",
       "      <td>54.2</td>\n",
       "      <td>6.0622</td>\n",
       "      <td>3</td>\n",
       "      <td>222</td>\n",
       "      <td>18.7</td>\n",
       "      <td>396.90</td>\n",
       "      <td>5.33</td>\n",
       "      <td>36.2</td>\n",
       "    </tr>\n",
       "  </tbody>\n",
       "</table>\n",
       "</div>"
      ],
      "text/plain": [
       "      crim    zn  indus  chas    nox     rm   age     dis  rad  tax  ptratio  \\\n",
       "0  0.00632  18.0   2.31     0  0.538  6.575  65.2  4.0900    1  296     15.3   \n",
       "1  0.02731   0.0   7.07     0  0.469  6.421  78.9  4.9671    2  242     17.8   \n",
       "2  0.02729   0.0   7.07     0  0.469  7.185  61.1  4.9671    2  242     17.8   \n",
       "3  0.03237   0.0   2.18     0  0.458  6.998  45.8  6.0622    3  222     18.7   \n",
       "4  0.06905   0.0   2.18     0  0.458  7.147  54.2  6.0622    3  222     18.7   \n",
       "\n",
       "        b  lstat  medv  \n",
       "0  396.90   4.98  24.0  \n",
       "1  396.90   9.14  21.6  \n",
       "2  392.83   4.03  34.7  \n",
       "3  394.63   2.94  33.4  \n",
       "4  396.90   5.33  36.2  "
      ]
     },
     "execution_count": 81,
     "metadata": {},
     "output_type": "execute_result"
    }
   ],
   "source": [
    "# splitting the IV AND DV \n",
    "df.head()"
   ]
  },
  {
   "cell_type": "code",
   "execution_count": 82,
   "id": "81994cf1-72a8-48d6-b6a0-b9c7f666f6f7",
   "metadata": {},
   "outputs": [],
   "source": [
    "x= df.drop(['medv'], axis= 1)\n",
    "y= df['medv']\n"
   ]
  },
  {
   "cell_type": "code",
   "execution_count": 83,
   "id": "a50fae91-904c-4229-8191-bf56d2c5bfa5",
   "metadata": {},
   "outputs": [
    {
     "data": {
      "text/html": [
       "<div>\n",
       "<style scoped>\n",
       "    .dataframe tbody tr th:only-of-type {\n",
       "        vertical-align: middle;\n",
       "    }\n",
       "\n",
       "    .dataframe tbody tr th {\n",
       "        vertical-align: top;\n",
       "    }\n",
       "\n",
       "    .dataframe thead th {\n",
       "        text-align: right;\n",
       "    }\n",
       "</style>\n",
       "<table border=\"1\" class=\"dataframe\">\n",
       "  <thead>\n",
       "    <tr style=\"text-align: right;\">\n",
       "      <th></th>\n",
       "      <th>crim</th>\n",
       "      <th>zn</th>\n",
       "      <th>indus</th>\n",
       "      <th>chas</th>\n",
       "      <th>nox</th>\n",
       "      <th>rm</th>\n",
       "      <th>age</th>\n",
       "      <th>dis</th>\n",
       "      <th>rad</th>\n",
       "      <th>tax</th>\n",
       "      <th>ptratio</th>\n",
       "      <th>b</th>\n",
       "      <th>lstat</th>\n",
       "    </tr>\n",
       "  </thead>\n",
       "  <tbody>\n",
       "    <tr>\n",
       "      <th>0</th>\n",
       "      <td>0.00632</td>\n",
       "      <td>18.0</td>\n",
       "      <td>2.31</td>\n",
       "      <td>0</td>\n",
       "      <td>0.538</td>\n",
       "      <td>6.575</td>\n",
       "      <td>65.2</td>\n",
       "      <td>4.0900</td>\n",
       "      <td>1</td>\n",
       "      <td>296</td>\n",
       "      <td>15.3</td>\n",
       "      <td>396.90</td>\n",
       "      <td>4.98</td>\n",
       "    </tr>\n",
       "    <tr>\n",
       "      <th>1</th>\n",
       "      <td>0.02731</td>\n",
       "      <td>0.0</td>\n",
       "      <td>7.07</td>\n",
       "      <td>0</td>\n",
       "      <td>0.469</td>\n",
       "      <td>6.421</td>\n",
       "      <td>78.9</td>\n",
       "      <td>4.9671</td>\n",
       "      <td>2</td>\n",
       "      <td>242</td>\n",
       "      <td>17.8</td>\n",
       "      <td>396.90</td>\n",
       "      <td>9.14</td>\n",
       "    </tr>\n",
       "    <tr>\n",
       "      <th>2</th>\n",
       "      <td>0.02729</td>\n",
       "      <td>0.0</td>\n",
       "      <td>7.07</td>\n",
       "      <td>0</td>\n",
       "      <td>0.469</td>\n",
       "      <td>7.185</td>\n",
       "      <td>61.1</td>\n",
       "      <td>4.9671</td>\n",
       "      <td>2</td>\n",
       "      <td>242</td>\n",
       "      <td>17.8</td>\n",
       "      <td>392.83</td>\n",
       "      <td>4.03</td>\n",
       "    </tr>\n",
       "    <tr>\n",
       "      <th>3</th>\n",
       "      <td>0.03237</td>\n",
       "      <td>0.0</td>\n",
       "      <td>2.18</td>\n",
       "      <td>0</td>\n",
       "      <td>0.458</td>\n",
       "      <td>6.998</td>\n",
       "      <td>45.8</td>\n",
       "      <td>6.0622</td>\n",
       "      <td>3</td>\n",
       "      <td>222</td>\n",
       "      <td>18.7</td>\n",
       "      <td>394.63</td>\n",
       "      <td>2.94</td>\n",
       "    </tr>\n",
       "    <tr>\n",
       "      <th>4</th>\n",
       "      <td>0.06905</td>\n",
       "      <td>0.0</td>\n",
       "      <td>2.18</td>\n",
       "      <td>0</td>\n",
       "      <td>0.458</td>\n",
       "      <td>7.147</td>\n",
       "      <td>54.2</td>\n",
       "      <td>6.0622</td>\n",
       "      <td>3</td>\n",
       "      <td>222</td>\n",
       "      <td>18.7</td>\n",
       "      <td>396.90</td>\n",
       "      <td>5.33</td>\n",
       "    </tr>\n",
       "  </tbody>\n",
       "</table>\n",
       "</div>"
      ],
      "text/plain": [
       "      crim    zn  indus  chas    nox     rm   age     dis  rad  tax  ptratio  \\\n",
       "0  0.00632  18.0   2.31     0  0.538  6.575  65.2  4.0900    1  296     15.3   \n",
       "1  0.02731   0.0   7.07     0  0.469  6.421  78.9  4.9671    2  242     17.8   \n",
       "2  0.02729   0.0   7.07     0  0.469  7.185  61.1  4.9671    2  242     17.8   \n",
       "3  0.03237   0.0   2.18     0  0.458  6.998  45.8  6.0622    3  222     18.7   \n",
       "4  0.06905   0.0   2.18     0  0.458  7.147  54.2  6.0622    3  222     18.7   \n",
       "\n",
       "        b  lstat  \n",
       "0  396.90   4.98  \n",
       "1  396.90   9.14  \n",
       "2  392.83   4.03  \n",
       "3  394.63   2.94  \n",
       "4  396.90   5.33  "
      ]
     },
     "execution_count": 83,
     "metadata": {},
     "output_type": "execute_result"
    }
   ],
   "source": [
    "x.head()"
   ]
  },
  {
   "cell_type": "code",
   "execution_count": 84,
   "id": "44a1281c-bea9-4078-aab7-11b6ea9b6949",
   "metadata": {},
   "outputs": [
    {
     "data": {
      "text/plain": [
       "0    24.0\n",
       "1    21.6\n",
       "2    34.7\n",
       "3    33.4\n",
       "4    36.2\n",
       "Name: medv, dtype: float64"
      ]
     },
     "execution_count": 84,
     "metadata": {},
     "output_type": "execute_result"
    }
   ],
   "source": [
    "y.head()\n"
   ]
  },
  {
   "cell_type": "code",
   "execution_count": 85,
   "id": "53228b98-27ca-42b7-8890-ff63d1115d9c",
   "metadata": {},
   "outputs": [
    {
     "data": {
      "text/plain": [
       "0      24.0\n",
       "1      21.6\n",
       "2      34.7\n",
       "3      33.4\n",
       "4      36.2\n",
       "       ... \n",
       "501    22.4\n",
       "502    20.6\n",
       "503    23.9\n",
       "504    22.0\n",
       "505    11.9\n",
       "Name: medv, Length: 506, dtype: float64"
      ]
     },
     "execution_count": 85,
     "metadata": {},
     "output_type": "execute_result"
    }
   ],
   "source": [
    "y"
   ]
  },
  {
   "cell_type": "markdown",
   "id": "053dc148-df21-4313-9030-5e631589f60a",
   "metadata": {},
   "source": [
    "# feature Scaling  "
   ]
  },
  {
   "cell_type": "code",
   "execution_count": 87,
   "id": "06161abb-13ee-480e-8baa-a675b940cc1c",
   "metadata": {},
   "outputs": [],
   "source": [
    "# 1. Normalisation Method ( Min-Max Scaler) -- It scales down the data between 0 and 1\n",
    "# 2. Standarisation---Mostly use and we assume mean=0 and Sd is 1---It will make bell like curve"
   ]
  },
  {
   "cell_type": "code",
   "execution_count": 88,
   "id": "6a7c2345-b7a0-4f38-92b3-1be11f623a76",
   "metadata": {},
   "outputs": [],
   "source": [
    "from sklearn.preprocessing import StandardScaler\n",
    "scaler= StandardScaler()\n",
    "x_scaler= scaler.fit_transform(x)\n",
    "x_scaler= pd.DataFrame(x_scaler, columns= x.columns)"
   ]
  },
  {
   "cell_type": "code",
   "execution_count": 89,
   "id": "bfbd6c7c-4ae9-4d91-9205-eb5ce9b74f3b",
   "metadata": {},
   "outputs": [
    {
     "data": {
      "text/html": [
       "<div>\n",
       "<style scoped>\n",
       "    .dataframe tbody tr th:only-of-type {\n",
       "        vertical-align: middle;\n",
       "    }\n",
       "\n",
       "    .dataframe tbody tr th {\n",
       "        vertical-align: top;\n",
       "    }\n",
       "\n",
       "    .dataframe thead th {\n",
       "        text-align: right;\n",
       "    }\n",
       "</style>\n",
       "<table border=\"1\" class=\"dataframe\">\n",
       "  <thead>\n",
       "    <tr style=\"text-align: right;\">\n",
       "      <th></th>\n",
       "      <th>crim</th>\n",
       "      <th>zn</th>\n",
       "      <th>indus</th>\n",
       "      <th>chas</th>\n",
       "      <th>nox</th>\n",
       "      <th>rm</th>\n",
       "      <th>age</th>\n",
       "      <th>dis</th>\n",
       "      <th>rad</th>\n",
       "      <th>tax</th>\n",
       "      <th>ptratio</th>\n",
       "      <th>b</th>\n",
       "      <th>lstat</th>\n",
       "    </tr>\n",
       "  </thead>\n",
       "  <tbody>\n",
       "    <tr>\n",
       "      <th>0</th>\n",
       "      <td>-0.670132</td>\n",
       "      <td>0.918420</td>\n",
       "      <td>-1.287909</td>\n",
       "      <td>-0.272599</td>\n",
       "      <td>-0.144217</td>\n",
       "      <td>0.472879</td>\n",
       "      <td>-0.120013</td>\n",
       "      <td>0.140214</td>\n",
       "      <td>-0.982843</td>\n",
       "      <td>-0.666608</td>\n",
       "      <td>-1.459000</td>\n",
       "      <td>0.916997</td>\n",
       "      <td>-1.075562</td>\n",
       "    </tr>\n",
       "    <tr>\n",
       "      <th>1</th>\n",
       "      <td>-0.663797</td>\n",
       "      <td>-0.579471</td>\n",
       "      <td>-0.593381</td>\n",
       "      <td>-0.272599</td>\n",
       "      <td>-0.740262</td>\n",
       "      <td>0.237190</td>\n",
       "      <td>0.367166</td>\n",
       "      <td>0.557160</td>\n",
       "      <td>-0.867883</td>\n",
       "      <td>-0.987329</td>\n",
       "      <td>-0.303094</td>\n",
       "      <td>0.916997</td>\n",
       "      <td>-0.492439</td>\n",
       "    </tr>\n",
       "    <tr>\n",
       "      <th>2</th>\n",
       "      <td>-0.663803</td>\n",
       "      <td>-0.579471</td>\n",
       "      <td>-0.593381</td>\n",
       "      <td>-0.272599</td>\n",
       "      <td>-0.740262</td>\n",
       "      <td>1.406455</td>\n",
       "      <td>-0.265812</td>\n",
       "      <td>0.557160</td>\n",
       "      <td>-0.867883</td>\n",
       "      <td>-0.987329</td>\n",
       "      <td>-0.303094</td>\n",
       "      <td>0.587271</td>\n",
       "      <td>-1.208727</td>\n",
       "    </tr>\n",
       "    <tr>\n",
       "      <th>3</th>\n",
       "      <td>-0.662269</td>\n",
       "      <td>-0.579471</td>\n",
       "      <td>-1.306878</td>\n",
       "      <td>-0.272599</td>\n",
       "      <td>-0.835284</td>\n",
       "      <td>1.120261</td>\n",
       "      <td>-0.809889</td>\n",
       "      <td>1.077737</td>\n",
       "      <td>-0.752922</td>\n",
       "      <td>-1.106115</td>\n",
       "      <td>0.113032</td>\n",
       "      <td>0.733096</td>\n",
       "      <td>-1.361517</td>\n",
       "    </tr>\n",
       "    <tr>\n",
       "      <th>4</th>\n",
       "      <td>-0.651197</td>\n",
       "      <td>-0.579471</td>\n",
       "      <td>-1.306878</td>\n",
       "      <td>-0.272599</td>\n",
       "      <td>-0.835284</td>\n",
       "      <td>1.348298</td>\n",
       "      <td>-0.511180</td>\n",
       "      <td>1.077737</td>\n",
       "      <td>-0.752922</td>\n",
       "      <td>-1.106115</td>\n",
       "      <td>0.113032</td>\n",
       "      <td>0.916997</td>\n",
       "      <td>-1.026501</td>\n",
       "    </tr>\n",
       "  </tbody>\n",
       "</table>\n",
       "</div>"
      ],
      "text/plain": [
       "       crim        zn     indus      chas       nox        rm       age  \\\n",
       "0 -0.670132  0.918420 -1.287909 -0.272599 -0.144217  0.472879 -0.120013   \n",
       "1 -0.663797 -0.579471 -0.593381 -0.272599 -0.740262  0.237190  0.367166   \n",
       "2 -0.663803 -0.579471 -0.593381 -0.272599 -0.740262  1.406455 -0.265812   \n",
       "3 -0.662269 -0.579471 -1.306878 -0.272599 -0.835284  1.120261 -0.809889   \n",
       "4 -0.651197 -0.579471 -1.306878 -0.272599 -0.835284  1.348298 -0.511180   \n",
       "\n",
       "        dis       rad       tax   ptratio         b     lstat  \n",
       "0  0.140214 -0.982843 -0.666608 -1.459000  0.916997 -1.075562  \n",
       "1  0.557160 -0.867883 -0.987329 -0.303094  0.916997 -0.492439  \n",
       "2  0.557160 -0.867883 -0.987329 -0.303094  0.587271 -1.208727  \n",
       "3  1.077737 -0.752922 -1.106115  0.113032  0.733096 -1.361517  \n",
       "4  1.077737 -0.752922 -1.106115  0.113032  0.916997 -1.026501  "
      ]
     },
     "execution_count": 89,
     "metadata": {},
     "output_type": "execute_result"
    }
   ],
   "source": [
    "x_scaler.head()"
   ]
  },
  {
   "cell_type": "code",
   "execution_count": 90,
   "id": "18d72c40-17c4-4eab-b78b-e664d998f201",
   "metadata": {},
   "outputs": [
    {
     "data": {
      "text/html": [
       "<div>\n",
       "<style scoped>\n",
       "    .dataframe tbody tr th:only-of-type {\n",
       "        vertical-align: middle;\n",
       "    }\n",
       "\n",
       "    .dataframe tbody tr th {\n",
       "        vertical-align: top;\n",
       "    }\n",
       "\n",
       "    .dataframe thead th {\n",
       "        text-align: right;\n",
       "    }\n",
       "</style>\n",
       "<table border=\"1\" class=\"dataframe\">\n",
       "  <thead>\n",
       "    <tr style=\"text-align: right;\">\n",
       "      <th></th>\n",
       "      <th>crim</th>\n",
       "      <th>zn</th>\n",
       "      <th>indus</th>\n",
       "      <th>chas</th>\n",
       "      <th>nox</th>\n",
       "      <th>rm</th>\n",
       "      <th>age</th>\n",
       "      <th>dis</th>\n",
       "      <th>rad</th>\n",
       "      <th>tax</th>\n",
       "      <th>ptratio</th>\n",
       "      <th>b</th>\n",
       "      <th>lstat</th>\n",
       "    </tr>\n",
       "  </thead>\n",
       "  <tbody>\n",
       "    <tr>\n",
       "      <th>count</th>\n",
       "      <td>506.00</td>\n",
       "      <td>506.00</td>\n",
       "      <td>506.00</td>\n",
       "      <td>506.00</td>\n",
       "      <td>506.00</td>\n",
       "      <td>506.00</td>\n",
       "      <td>506.00</td>\n",
       "      <td>506.00</td>\n",
       "      <td>506.00</td>\n",
       "      <td>506.00</td>\n",
       "      <td>506.00</td>\n",
       "      <td>506.00</td>\n",
       "      <td>506.00</td>\n",
       "    </tr>\n",
       "    <tr>\n",
       "      <th>mean</th>\n",
       "      <td>-0.00</td>\n",
       "      <td>0.00</td>\n",
       "      <td>0.00</td>\n",
       "      <td>-0.00</td>\n",
       "      <td>-0.00</td>\n",
       "      <td>0.00</td>\n",
       "      <td>-0.00</td>\n",
       "      <td>-0.00</td>\n",
       "      <td>-0.00</td>\n",
       "      <td>0.00</td>\n",
       "      <td>-0.00</td>\n",
       "      <td>-0.00</td>\n",
       "      <td>-0.00</td>\n",
       "    </tr>\n",
       "    <tr>\n",
       "      <th>std</th>\n",
       "      <td>1.00</td>\n",
       "      <td>1.00</td>\n",
       "      <td>1.00</td>\n",
       "      <td>1.00</td>\n",
       "      <td>1.00</td>\n",
       "      <td>1.00</td>\n",
       "      <td>1.00</td>\n",
       "      <td>1.00</td>\n",
       "      <td>1.00</td>\n",
       "      <td>1.00</td>\n",
       "      <td>1.00</td>\n",
       "      <td>1.00</td>\n",
       "      <td>1.00</td>\n",
       "    </tr>\n",
       "    <tr>\n",
       "      <th>min</th>\n",
       "      <td>-0.67</td>\n",
       "      <td>-0.58</td>\n",
       "      <td>-1.56</td>\n",
       "      <td>-0.27</td>\n",
       "      <td>-1.47</td>\n",
       "      <td>-4.14</td>\n",
       "      <td>-2.34</td>\n",
       "      <td>-1.27</td>\n",
       "      <td>-0.98</td>\n",
       "      <td>-1.31</td>\n",
       "      <td>-2.71</td>\n",
       "      <td>-1.67</td>\n",
       "      <td>-1.53</td>\n",
       "    </tr>\n",
       "    <tr>\n",
       "      <th>25%</th>\n",
       "      <td>-0.65</td>\n",
       "      <td>-0.58</td>\n",
       "      <td>-0.87</td>\n",
       "      <td>-0.27</td>\n",
       "      <td>-0.91</td>\n",
       "      <td>-0.58</td>\n",
       "      <td>-0.84</td>\n",
       "      <td>-0.81</td>\n",
       "      <td>-0.64</td>\n",
       "      <td>-0.77</td>\n",
       "      <td>-0.49</td>\n",
       "      <td>-0.83</td>\n",
       "      <td>-0.80</td>\n",
       "    </tr>\n",
       "    <tr>\n",
       "      <th>50%</th>\n",
       "      <td>-0.59</td>\n",
       "      <td>-0.58</td>\n",
       "      <td>-0.21</td>\n",
       "      <td>-0.27</td>\n",
       "      <td>-0.14</td>\n",
       "      <td>-0.09</td>\n",
       "      <td>0.32</td>\n",
       "      <td>-0.28</td>\n",
       "      <td>-0.52</td>\n",
       "      <td>-0.46</td>\n",
       "      <td>0.27</td>\n",
       "      <td>0.47</td>\n",
       "      <td>-0.18</td>\n",
       "    </tr>\n",
       "    <tr>\n",
       "      <th>75%</th>\n",
       "      <td>0.44</td>\n",
       "      <td>0.46</td>\n",
       "      <td>1.02</td>\n",
       "      <td>-0.27</td>\n",
       "      <td>0.60</td>\n",
       "      <td>0.55</td>\n",
       "      <td>0.91</td>\n",
       "      <td>0.66</td>\n",
       "      <td>1.66</td>\n",
       "      <td>1.53</td>\n",
       "      <td>0.81</td>\n",
       "      <td>0.86</td>\n",
       "      <td>0.60</td>\n",
       "    </tr>\n",
       "    <tr>\n",
       "      <th>max</th>\n",
       "      <td>2.07</td>\n",
       "      <td>2.02</td>\n",
       "      <td>2.42</td>\n",
       "      <td>3.67</td>\n",
       "      <td>2.73</td>\n",
       "      <td>2.22</td>\n",
       "      <td>1.12</td>\n",
       "      <td>3.96</td>\n",
       "      <td>1.66</td>\n",
       "      <td>1.80</td>\n",
       "      <td>1.64</td>\n",
       "      <td>0.92</td>\n",
       "      <td>3.55</td>\n",
       "    </tr>\n",
       "  </tbody>\n",
       "</table>\n",
       "</div>"
      ],
      "text/plain": [
       "         crim      zn   indus    chas     nox      rm     age     dis     rad  \\\n",
       "count  506.00  506.00  506.00  506.00  506.00  506.00  506.00  506.00  506.00   \n",
       "mean    -0.00    0.00    0.00   -0.00   -0.00    0.00   -0.00   -0.00   -0.00   \n",
       "std      1.00    1.00    1.00    1.00    1.00    1.00    1.00    1.00    1.00   \n",
       "min     -0.67   -0.58   -1.56   -0.27   -1.47   -4.14   -2.34   -1.27   -0.98   \n",
       "25%     -0.65   -0.58   -0.87   -0.27   -0.91   -0.58   -0.84   -0.81   -0.64   \n",
       "50%     -0.59   -0.58   -0.21   -0.27   -0.14   -0.09    0.32   -0.28   -0.52   \n",
       "75%      0.44    0.46    1.02   -0.27    0.60    0.55    0.91    0.66    1.66   \n",
       "max      2.07    2.02    2.42    3.67    2.73    2.22    1.12    3.96    1.66   \n",
       "\n",
       "          tax  ptratio       b   lstat  \n",
       "count  506.00   506.00  506.00  506.00  \n",
       "mean     0.00    -0.00   -0.00   -0.00  \n",
       "std      1.00     1.00    1.00    1.00  \n",
       "min     -1.31    -2.71   -1.67   -1.53  \n",
       "25%     -0.77    -0.49   -0.83   -0.80  \n",
       "50%     -0.46     0.27    0.47   -0.18  \n",
       "75%      1.53     0.81    0.86    0.60  \n",
       "max      1.80     1.64    0.92    3.55  "
      ]
     },
     "execution_count": 90,
     "metadata": {},
     "output_type": "execute_result"
    }
   ],
   "source": [
    "x_scaler.describe().round(2)"
   ]
  },
  {
   "cell_type": "markdown",
   "id": "bfc42a35-28b0-4fb1-a96f-1e6fc67c186e",
   "metadata": {},
   "source": [
    "# Variance Inflation Factor- To find multicollinearity ( If IV is having multicoliniarity then it would difficult to access the individual effect of IV on DP)\n",
    "# It should be less than 5"
   ]
  },
  {
   "cell_type": "code",
   "execution_count": 92,
   "id": "1ffe75eb-b789-4c25-b36f-8e19dc753338",
   "metadata": {},
   "outputs": [
    {
     "data": {
      "text/plain": [
       "(506, 13)"
      ]
     },
     "execution_count": 92,
     "metadata": {},
     "output_type": "execute_result"
    }
   ],
   "source": [
    "x_scaler.shape"
   ]
  },
  {
   "cell_type": "code",
   "execution_count": 93,
   "id": "ffb6fcf1-c308-4f05-a9c7-0a3840fdf91f",
   "metadata": {},
   "outputs": [],
   "source": [
    "from statsmodels.stats.outliers_influence import variance_inflation_factor\n",
    "variable= x_scaler\n",
    "vif= pd.DataFrame()\n",
    "vif['Variance Inflation Factor'] = [variance_inflation_factor(variable, i) for i in range(variable.shape[1])]\n",
    "vif['Features'] = x.columns     \n"
   ]
  },
  {
   "cell_type": "code",
   "execution_count": 94,
   "id": "3e66f956-794a-42bc-8ba0-47863146e544",
   "metadata": {},
   "outputs": [
    {
     "data": {
      "text/html": [
       "<div>\n",
       "<style scoped>\n",
       "    .dataframe tbody tr th:only-of-type {\n",
       "        vertical-align: middle;\n",
       "    }\n",
       "\n",
       "    .dataframe tbody tr th {\n",
       "        vertical-align: top;\n",
       "    }\n",
       "\n",
       "    .dataframe thead th {\n",
       "        text-align: right;\n",
       "    }\n",
       "</style>\n",
       "<table border=\"1\" class=\"dataframe\">\n",
       "  <thead>\n",
       "    <tr style=\"text-align: right;\">\n",
       "      <th></th>\n",
       "      <th>Variance Inflation Factor</th>\n",
       "      <th>Features</th>\n",
       "    </tr>\n",
       "  </thead>\n",
       "  <tbody>\n",
       "    <tr>\n",
       "      <th>0</th>\n",
       "      <td>9.340205</td>\n",
       "      <td>crim</td>\n",
       "    </tr>\n",
       "    <tr>\n",
       "      <th>1</th>\n",
       "      <td>2.438353</td>\n",
       "      <td>zn</td>\n",
       "    </tr>\n",
       "    <tr>\n",
       "      <th>2</th>\n",
       "      <td>4.028846</td>\n",
       "      <td>indus</td>\n",
       "    </tr>\n",
       "    <tr>\n",
       "      <th>3</th>\n",
       "      <td>1.075308</td>\n",
       "      <td>chas</td>\n",
       "    </tr>\n",
       "    <tr>\n",
       "      <th>4</th>\n",
       "      <td>4.421450</td>\n",
       "      <td>nox</td>\n",
       "    </tr>\n",
       "    <tr>\n",
       "      <th>5</th>\n",
       "      <td>1.941425</td>\n",
       "      <td>rm</td>\n",
       "    </tr>\n",
       "    <tr>\n",
       "      <th>6</th>\n",
       "      <td>3.065636</td>\n",
       "      <td>age</td>\n",
       "    </tr>\n",
       "    <tr>\n",
       "      <th>7</th>\n",
       "      <td>3.974595</td>\n",
       "      <td>dis</td>\n",
       "    </tr>\n",
       "    <tr>\n",
       "      <th>8</th>\n",
       "      <td>12.590002</td>\n",
       "      <td>rad</td>\n",
       "    </tr>\n",
       "    <tr>\n",
       "      <th>9</th>\n",
       "      <td>8.667650</td>\n",
       "      <td>tax</td>\n",
       "    </tr>\n",
       "    <tr>\n",
       "      <th>10</th>\n",
       "      <td>1.899501</td>\n",
       "      <td>ptratio</td>\n",
       "    </tr>\n",
       "    <tr>\n",
       "      <th>11</th>\n",
       "      <td>1.271348</td>\n",
       "      <td>b</td>\n",
       "    </tr>\n",
       "    <tr>\n",
       "      <th>12</th>\n",
       "      <td>3.104509</td>\n",
       "      <td>lstat</td>\n",
       "    </tr>\n",
       "  </tbody>\n",
       "</table>\n",
       "</div>"
      ],
      "text/plain": [
       "    Variance Inflation Factor Features\n",
       "0                    9.340205     crim\n",
       "1                    2.438353       zn\n",
       "2                    4.028846    indus\n",
       "3                    1.075308     chas\n",
       "4                    4.421450      nox\n",
       "5                    1.941425       rm\n",
       "6                    3.065636      age\n",
       "7                    3.974595      dis\n",
       "8                   12.590002      rad\n",
       "9                    8.667650      tax\n",
       "10                   1.899501  ptratio\n",
       "11                   1.271348        b\n",
       "12                   3.104509    lstat"
      ]
     },
     "execution_count": 94,
     "metadata": {},
     "output_type": "execute_result"
    }
   ],
   "source": [
    "vif"
   ]
  },
  {
   "cell_type": "code",
   "execution_count": 95,
   "id": "013efc0f-eedc-45b3-a299-eafd772b4433",
   "metadata": {},
   "outputs": [
    {
     "data": {
      "text/plain": [
       "Index(['crim', 'zn', 'indus', 'chas', 'nox', 'rm', 'age', 'dis', 'tax',\n",
       "       'ptratio', 'b', 'lstat'],\n",
       "      dtype='object')"
      ]
     },
     "execution_count": 95,
     "metadata": {},
     "output_type": "execute_result"
    }
   ],
   "source": [
    "# rad has highest VIF hence dropping it\n",
    "x_scaler= x_scaler.drop(['rad'], axis= 1)\n",
    "x_scaler.columns"
   ]
  },
  {
   "cell_type": "code",
   "execution_count": 96,
   "id": "936ccb73-733b-45ff-89f8-0d11ebb090f9",
   "metadata": {},
   "outputs": [
    {
     "data": {
      "text/plain": [
       "Index(['crim', 'zn', 'indus', 'chas', 'nox', 'rm', 'age', 'dis', 'tax',\n",
       "       'ptratio', 'b', 'lstat'],\n",
       "      dtype='object')"
      ]
     },
     "execution_count": 96,
     "metadata": {},
     "output_type": "execute_result"
    }
   ],
   "source": [
    "x_scaler.columns"
   ]
  },
  {
   "cell_type": "code",
   "execution_count": 97,
   "id": "1b259176-601f-46f9-b4a3-2d513bf01941",
   "metadata": {},
   "outputs": [
    {
     "data": {
      "text/html": [
       "<div>\n",
       "<style scoped>\n",
       "    .dataframe tbody tr th:only-of-type {\n",
       "        vertical-align: middle;\n",
       "    }\n",
       "\n",
       "    .dataframe tbody tr th {\n",
       "        vertical-align: top;\n",
       "    }\n",
       "\n",
       "    .dataframe thead th {\n",
       "        text-align: right;\n",
       "    }\n",
       "</style>\n",
       "<table border=\"1\" class=\"dataframe\">\n",
       "  <thead>\n",
       "    <tr style=\"text-align: right;\">\n",
       "      <th></th>\n",
       "      <th>Variance Inflation Factor</th>\n",
       "      <th>Features</th>\n",
       "    </tr>\n",
       "  </thead>\n",
       "  <tbody>\n",
       "    <tr>\n",
       "      <th>0</th>\n",
       "      <td>5.072341</td>\n",
       "      <td>crim</td>\n",
       "    </tr>\n",
       "    <tr>\n",
       "      <th>1</th>\n",
       "      <td>2.437757</td>\n",
       "      <td>zn</td>\n",
       "    </tr>\n",
       "    <tr>\n",
       "      <th>2</th>\n",
       "      <td>3.857003</td>\n",
       "      <td>indus</td>\n",
       "    </tr>\n",
       "    <tr>\n",
       "      <th>3</th>\n",
       "      <td>1.057993</td>\n",
       "      <td>chas</td>\n",
       "    </tr>\n",
       "    <tr>\n",
       "      <th>4</th>\n",
       "      <td>4.407783</td>\n",
       "      <td>nox</td>\n",
       "    </tr>\n",
       "    <tr>\n",
       "      <th>5</th>\n",
       "      <td>1.933694</td>\n",
       "      <td>rm</td>\n",
       "    </tr>\n",
       "    <tr>\n",
       "      <th>6</th>\n",
       "      <td>3.060650</td>\n",
       "      <td>age</td>\n",
       "    </tr>\n",
       "    <tr>\n",
       "      <th>7</th>\n",
       "      <td>3.974292</td>\n",
       "      <td>dis</td>\n",
       "    </tr>\n",
       "    <tr>\n",
       "      <th>8</th>\n",
       "      <td>5.727581</td>\n",
       "      <td>tax</td>\n",
       "    </tr>\n",
       "    <tr>\n",
       "      <th>9</th>\n",
       "      <td>1.816034</td>\n",
       "      <td>ptratio</td>\n",
       "    </tr>\n",
       "    <tr>\n",
       "      <th>10</th>\n",
       "      <td>1.271117</td>\n",
       "      <td>b</td>\n",
       "    </tr>\n",
       "    <tr>\n",
       "      <th>11</th>\n",
       "      <td>3.036619</td>\n",
       "      <td>lstat</td>\n",
       "    </tr>\n",
       "  </tbody>\n",
       "</table>\n",
       "</div>"
      ],
      "text/plain": [
       "    Variance Inflation Factor Features\n",
       "0                    5.072341     crim\n",
       "1                    2.437757       zn\n",
       "2                    3.857003    indus\n",
       "3                    1.057993     chas\n",
       "4                    4.407783      nox\n",
       "5                    1.933694       rm\n",
       "6                    3.060650      age\n",
       "7                    3.974292      dis\n",
       "8                    5.727581      tax\n",
       "9                    1.816034  ptratio\n",
       "10                   1.271117        b\n",
       "11                   3.036619    lstat"
      ]
     },
     "execution_count": 97,
     "metadata": {},
     "output_type": "execute_result"
    }
   ],
   "source": [
    "# checking VIF again after dropping\n",
    "from statsmodels.stats.outliers_influence import variance_inflation_factor\n",
    "variable = x_scaler\n",
    "vif = pd.DataFrame()\n",
    "vif['Variance Inflation Factor'] = [variance_inflation_factor(variable, i) for i in range(variable.shape[1])]\n",
    "vif['Features'] = x_scaler.columns  \n",
    "vif  \n"
   ]
  },
  {
   "cell_type": "markdown",
   "id": "4239dfcd-7900-453f-8393-0e90de669d9c",
   "metadata": {},
   "source": [
    "## Now PREPROCESSING completed"
   ]
  },
  {
   "cell_type": "markdown",
   "id": "973ed016-9aa9-408f-9601-89bd876bb068",
   "metadata": {},
   "source": [
    "# EDA"
   ]
  },
  {
   "cell_type": "code",
   "execution_count": 100,
   "id": "850be781-2e33-44a7-aa97-df9dec9ff87f",
   "metadata": {},
   "outputs": [
    {
     "data": {
      "application/vnd.jupyter.widget-view+json": {
       "model_id": "a3e3619023024945bf239f30f5be0301",
       "version_major": 2,
       "version_minor": 0
      },
      "text/plain": [
       "Summarize dataset:   0%|          | 0/5 [00:00<?, ?it/s]"
      ]
     },
     "metadata": {},
     "output_type": "display_data"
    },
    {
     "data": {
      "application/vnd.jupyter.widget-view+json": {
       "model_id": "f847df4d349d4440bc30891341164b6b",
       "version_major": 2,
       "version_minor": 0
      },
      "text/plain": [
       "Generate report structure:   0%|          | 0/1 [00:00<?, ?it/s]"
      ]
     },
     "metadata": {},
     "output_type": "display_data"
    },
    {
     "data": {
      "application/vnd.jupyter.widget-view+json": {
       "model_id": "33194e30ade445b29e5b2fa0da16d567",
       "version_major": 2,
       "version_minor": 0
      },
      "text/plain": [
       "Render HTML:   0%|          | 0/1 [00:00<?, ?it/s]"
      ]
     },
     "metadata": {},
     "output_type": "display_data"
    },
    {
     "data": {
      "application/vnd.jupyter.widget-view+json": {
       "model_id": "e48782e488c54f1fa9e285542bf746e0",
       "version_major": 2,
       "version_minor": 0
      },
      "text/plain": [
       "Export report to file:   0%|          | 0/1 [00:00<?, ?it/s]"
      ]
     },
     "metadata": {},
     "output_type": "display_data"
    }
   ],
   "source": [
    "\n",
    "from ydata_profiling import ProfileReport\n",
    "profile = ProfileReport(df, title=\"EDA for Housing Price\")\n",
    "profile.to_file(\"eda_housing.html\")"
   ]
  },
  {
   "cell_type": "code",
   "execution_count": 101,
   "id": "77d4a121-ee00-47da-b40e-5e073ef28450",
   "metadata": {},
   "outputs": [
    {
     "ename": "SyntaxError",
     "evalue": "invalid syntax (1208322101.py, line 1)",
     "output_type": "error",
     "traceback": [
      "\u001b[1;36m  Cell \u001b[1;32mIn[101], line 1\u001b[1;36m\u001b[0m\n\u001b[1;33m    pip install jupyterlab_widgets\u001b[0m\n\u001b[1;37m        ^\u001b[0m\n\u001b[1;31mSyntaxError\u001b[0m\u001b[1;31m:\u001b[0m invalid syntax\n"
     ]
    }
   ],
   "source": [
    "pip install jupyterlab_widgets\n",
    "jupyter labextension install @jupyter-widgets/jupyterlab-manager\n"
   ]
  },
  {
   "cell_type": "code",
   "execution_count": null,
   "id": "b9028c8a-edc8-46c7-8c1f-ef548cc7c173",
   "metadata": {},
   "outputs": [],
   "source": [
    "os.getcwd()"
   ]
  },
  {
   "cell_type": "markdown",
   "id": "8063bb66-ded5-49e9-b5e3-fd1bf8e6081a",
   "metadata": {},
   "source": [
    "# Splitting the data into Training and Testing "
   ]
  },
  {
   "cell_type": "code",
   "execution_count": 109,
   "id": "b5a452eb-3c55-4380-a290-d8a4df725f40",
   "metadata": {},
   "outputs": [
    {
     "name": "stdout",
     "output_type": "stream",
     "text": [
      "(404, 13) (102, 13) (404,) (102,)\n"
     ]
    }
   ],
   "source": [
    "from sklearn.model_selection import train_test_split\n",
    "x_train,x_test,y_train,y_test= train_test_split(x,y, test_size=0.2, random_state= 100)\n",
    "print(x_train.shape,x_test.shape,y_train.shape,y_test.shape)\n",
    "\n"
   ]
  },
  {
   "cell_type": "code",
   "execution_count": null,
   "id": "e4539590-dabd-43ec-9aaa-6ed5f811fb21",
   "metadata": {},
   "outputs": [],
   "source": [
    "x_train"
   ]
  },
  {
   "cell_type": "code",
   "execution_count": null,
   "id": "35734aa7-71b3-4a9e-a1f2-5417c72397be",
   "metadata": {},
   "outputs": [],
   "source": [
    "x_test"
   ]
  },
  {
   "cell_type": "code",
   "execution_count": null,
   "id": "087f9cf8-e51f-46ab-af7c-6c4d7d55a5b4",
   "metadata": {},
   "outputs": [],
   "source": [
    "y_test"
   ]
  },
  {
   "cell_type": "code",
   "execution_count": null,
   "id": "68954358-e54b-4c98-a144-95b6ebee9d8e",
   "metadata": {},
   "outputs": [],
   "source": [
    "y_train"
   ]
  },
  {
   "cell_type": "markdown",
   "id": "06c89b94-0f99-4b4f-acbe-cb68132a355c",
   "metadata": {},
   "source": [
    "# Building the LR Model by Stats Method-OLS"
   ]
  },
  {
   "cell_type": "code",
   "execution_count": 111,
   "id": "46955014-b9d0-4eaa-8f31-b9ba256c356c",
   "metadata": {},
   "outputs": [],
   "source": [
    "from statsmodels.regression.linear_model import OLS\n",
    "import statsmodels.regression.linear_model as smf"
   ]
  },
  {
   "cell_type": "code",
   "execution_count": null,
   "id": "b95aaa33-b4f1-4a3d-b9be-5744658c4135",
   "metadata": {},
   "outputs": [],
   "source": [
    "regression= smf.OLS(endog=y_train, exog= x_train).fit()\n",
    "regression.summary()"
   ]
  },
  {
   "cell_type": "code",
   "execution_count": null,
   "id": "fd4195ad-a3a4-499c-a87d-7edc80987edd",
   "metadata": {},
   "outputs": [],
   "source": [
    "# Again doing regression model building part"
   ]
  },
  {
   "cell_type": "code",
   "execution_count": null,
   "id": "eea2f9ae-c273-44e1-966a-9176dc9b37dc",
   "metadata": {},
   "outputs": [],
   "source": [
    "# Splitting IV AND DV\n",
    "\n",
    "x= df.drop(['medv'], axis=1)\n",
    "y = df['medv']"
   ]
  },
  {
   "cell_type": "code",
   "execution_count": null,
   "id": "97dcff45-faec-4560-8459-1194f95dbcad",
   "metadata": {},
   "outputs": [],
   "source": [
    "x.head()\n"
   ]
  },
  {
   "cell_type": "code",
   "execution_count": null,
   "id": "4e927360-c400-4b77-818b-359295b8c540",
   "metadata": {},
   "outputs": [],
   "source": [
    "y.head()"
   ]
  },
  {
   "cell_type": "code",
   "execution_count": 113,
   "id": "a69d578e-43f9-4608-b88f-276fe5d6e4a3",
   "metadata": {},
   "outputs": [],
   "source": [
    "# splitting the data into train and test\n",
    "\n",
    "from sklearn.model_selection import train_test_split\n",
    "x_train, x_test, y_train, y_test= train_test_split(x,y, test_size= 0.20, random_state=42)"
   ]
  },
  {
   "cell_type": "code",
   "execution_count": null,
   "id": "98aa8ec9-0ce1-44ee-9cb2-86de7e526bd8",
   "metadata": {},
   "outputs": [],
   "source": [
    "x_train.shape"
   ]
  },
  {
   "cell_type": "code",
   "execution_count": null,
   "id": "8faefeb3-bf0b-4559-b24e-2e6f2effa076",
   "metadata": {},
   "outputs": [],
   "source": [
    "y_train"
   ]
  },
  {
   "cell_type": "code",
   "execution_count": null,
   "id": "d516c8b1-230a-4121-a519-fb34981f4efa",
   "metadata": {},
   "outputs": [],
   "source": [
    "y_train.shape"
   ]
  },
  {
   "cell_type": "code",
   "execution_count": null,
   "id": "4cb7578a-8d4c-44bf-87d5-d679c22dc845",
   "metadata": {},
   "outputs": [],
   "source": [
    "x_test.shape"
   ]
  },
  {
   "cell_type": "code",
   "execution_count": null,
   "id": "c5be00df-b243-4e23-ab05-61d8f6fc4e47",
   "metadata": {},
   "outputs": [],
   "source": [
    "y_test.shape"
   ]
  },
  {
   "cell_type": "code",
   "execution_count": 115,
   "id": "004b1634-2a9a-4722-ae05-3a66e9b4c91c",
   "metadata": {},
   "outputs": [
    {
     "data": {
      "text/plain": [
       "(33.58173666648444,\n",
       " array([-5.05267501e-01,  2.04812208e-02,  1.80125222e-02,  3.22209179e+00,\n",
       "        -1.69176130e+01,  4.28547597e+00, -2.25653752e-03, -1.34177081e+00,\n",
       "         3.17369772e-01, -9.44524010e-03, -1.00932024e+00,  9.30191552e-03,\n",
       "        -5.45483021e-01]))"
      ]
     },
     "execution_count": 115,
     "metadata": {},
     "output_type": "execute_result"
    }
   ],
   "source": [
    "# Building multiple LR\n",
    "from sklearn.linear_model import LinearRegression\n",
    "LR=LinearRegression()\n",
    "LR.fit(x_train,y_train)\n",
    "LR.intercept_, LR.coef_"
   ]
  },
  {
   "cell_type": "code",
   "execution_count": 117,
   "id": "9e416ff4-cd1d-4786-b29e-c41377b6546d",
   "metadata": {},
   "outputs": [
    {
     "name": "stdout",
     "output_type": "stream",
     "text": [
      "train accuracy 0.7213813886377829\n",
      "test accuracy 0.665559003899024\n"
     ]
    }
   ],
   "source": [
    "print(\"train accuracy\", LR.score(x_train,y_train))\n",
    "print(\"test accuracy\", LR.score(x_test,y_test))"
   ]
  },
  {
   "cell_type": "code",
   "execution_count": 147,
   "id": "3d1d2375-c5ff-48b5-8781-14e5cac64569",
   "metadata": {},
   "outputs": [],
   "source": [
    "# Output what we wanted to find.\n",
    "\n",
    "y_pred_train = LR.predict(x_train)\n",
    "y_pred_test = LR.predict(x_test)"
   ]
  },
  {
   "cell_type": "code",
   "execution_count": 149,
   "id": "e9593b33-1251-4b9f-9b56-b3ab3d32e255",
   "metadata": {},
   "outputs": [
    {
     "data": {
      "text/plain": [
       "array([ 9.36938626, 19.38141319, 23.30022593, 14.83604034, 18.20961895,\n",
       "       25.52148612, 21.1107618 , 22.99611316, 10.27595439, 19.93543055,\n",
       "       22.25554981, 27.7396642 , 33.22929171, 16.72378236, 35.25254075,\n",
       "       13.58889537, 20.88442955, 28.8054774 , 16.33762481, 24.91582393,\n",
       "       13.80216861, 24.27110025, 25.88304372, 23.22329037, 23.50710739,\n",
       "       34.35531981, 22.61602589, 39.21765664, 13.60577899, 25.56516996,\n",
       "       17.70132732, 21.0964916 ,  8.87200741, 22.95561194, 22.49625384,\n",
       "       30.66181417, 30.58070186, 15.46988178, 16.77231321, 28.08708221,\n",
       "       23.32845618, 17.04878908,  8.34710315, 26.57455898, 23.49919434,\n",
       "       15.14384794, 13.31810004, 36.99707238, 18.78644099, 16.00653236,\n",
       "       25.95180557, 24.03075911, 22.27781991, 20.6094924 , 15.31928593,\n",
       "       22.60025788, 29.65678242, 11.79600896, 24.74341737, 17.68082945,\n",
       "       21.01684365, 25.42987305, 27.67437785, 21.01272784, 38.98657346,\n",
       "       16.94262233, 15.3138917 , 19.84418397, 17.01921937, 22.98324418,\n",
       "       23.38502604, 33.93086688, 22.58637313, 20.98598232, 25.79356715,\n",
       "       31.53383346, 33.40710204, 28.36841319,  7.43792071,  2.90591431,\n",
       "       10.63314156, 17.96976637, 35.12879267, 34.33025683, 18.86692184,\n",
       "        2.61452615, 32.58571927, 21.62326354, 19.03797429, 26.8656744 ,\n",
       "       18.52627365, 15.93112034, 10.9231395 , 31.2374579 , 24.90979507,\n",
       "       19.90106513, 18.06715101, 13.31099335, 28.69524256, 20.69874174,\n",
       "       33.22908529, 33.20345489, 25.00851603, 21.83879138, 26.08094342,\n",
       "       40.84923105, 28.20330676, 34.3092612 , 26.4731498 , 26.98794734,\n",
       "       18.38683761, 29.34027733, 21.22133828, 29.59993194, 29.08638845,\n",
       "       21.49560341, 23.3367621 , 11.86345126, 36.83783805, 37.62574587,\n",
       "       33.78823295,  4.42308576, 19.97557862, 22.41926341, 35.01466456,\n",
       "       16.41098042, 22.69594671, 20.22989849, 26.34552331, 14.94015854,\n",
       "       21.09813896, 27.4530147 , 31.65016559, 31.20278404, 23.43034605,\n",
       "       34.99457508, 28.01248112, 30.90922495, 29.26370299, 20.92714542,\n",
       "       29.73021155, 14.24988244, 22.30684194, 24.66385401, 19.40469521,\n",
       "        1.68404689, 20.49520325, 27.09207488, 23.20215052, 18.46375294,\n",
       "       24.25773843, 15.2117733 , 31.25366667, 28.37915789, 33.52145784,\n",
       "       18.08261575, 17.2243239 , 18.26286602,  7.41558863, 15.05903652,\n",
       "       26.36093824, 15.57145308,  4.30449938, 24.93098615, 10.66559306,\n",
       "       28.77230038, 33.44961278, 35.50113217, 23.57722703, 20.02105672,\n",
       "       31.16638182, 35.88280026, 20.4224194 , 20.02153815, 29.13298596,\n",
       "       12.34248048, 20.58809814,  8.47065907, 18.17524856, 21.99242831,\n",
       "       30.28917246, 30.21749659, 16.9627446 , 30.64374004, 13.69322686,\n",
       "       15.47853713, 32.34904721, 19.64916265, 20.96366167, 22.74587996,\n",
       "       22.24487149, 20.01241141, 25.0802462 , 34.35482209,  5.36959349,\n",
       "       21.10796326, 33.43199221, 17.39772959, 23.5156227 , 22.86191986,\n",
       "       20.86099647, 14.32277505, 36.39967772, 25.92782452, 24.46579863,\n",
       "       15.9147102 , 31.46618677, 36.72770847, 36.89175539, 20.97788367,\n",
       "       21.51118079, 16.38273495, 37.41025023,  5.74839021, 21.62565477,\n",
       "       15.08443951, 26.6768097 , 11.20484793, 20.87505649, -2.08096302,\n",
       "       16.18879507, 15.83479237, 10.00879565, 23.40452288, 17.13764751,\n",
       "       28.55641985, 42.46010284, 28.403213  , 24.34280156, 36.37894005,\n",
       "       11.35109418, 26.08964345, 21.27317303, 23.96219284, 19.68054663,\n",
       "       23.26481358, 13.90422785, 15.97325958, 22.51713318, 24.29972894,\n",
       "       29.24233922, 24.12292195, 27.66750688, 16.10314067, 10.6124186 ,\n",
       "       32.21311893, 29.02216247, 11.53996416, 16.45206107, 24.10078638,\n",
       "       41.78016928, 22.22330918, 14.51562328, 28.97524114, 35.47771022,\n",
       "       21.14850274, 25.18323826, 37.49949005, 19.30037052, 25.73390926,\n",
       "       17.41360918, 24.08015305, 35.92680968, 29.5386031 , 24.878616  ,\n",
       "       18.2562526 , 18.1085747 ,  9.33881481, 39.19576104, 19.76413496,\n",
       "       28.84187334, 18.89587484, 15.02515956, 18.09858719, 24.68865851,\n",
       "       35.08877222, 26.51296021, 41.61771824, 13.51528521, 13.69413139,\n",
       "       24.27958225, 17.39654976, 19.2012681 , 28.31267411, 11.33083001,\n",
       "       24.36936407, 16.65261575, 24.25580595, 29.90037003, 19.36340267,\n",
       "       15.54815763, 32.53700885, 15.27124249, 18.31024104, 17.97027282,\n",
       "       27.36851391, 35.62417903, 10.41447372, 26.42432299, 19.53666861,\n",
       "       31.24046315, 17.79884637, 23.24772351, 29.58730491, 18.69680994,\n",
       "       25.7591797 , 20.93312042, 18.76923273, 33.31301553, 20.57036532,\n",
       "       25.68493126, 27.24833812, 37.6870577 , 25.26825621, 28.96856347,\n",
       "       15.98685847, 31.10750442, 23.71123973, 35.03707475, 18.44729035,\n",
       "       24.28487693, 11.76013967, 25.52452301, 17.01685591, 12.51317443,\n",
       "       17.25474417, 15.76603322, 28.70453157, 22.97476441, 14.14635811,\n",
       "       18.70332295, 34.59238252, 18.14671212, 15.3004937 , 27.7898379 ,\n",
       "       21.4859056 , 20.16251488, 28.20035962, 17.57391228, 36.08578169,\n",
       "       23.68476209, 19.70724776, 20.64982936, 31.39470026,  3.84568437,\n",
       "       36.47889913, 37.14414135, 22.18619055, 21.62959345, 13.92469683,\n",
       "       35.43149686, 18.85189814, 21.57976996, 27.88959248, 13.4992596 ,\n",
       "       20.42900236, 21.30959706, 20.24755204, 26.7479515 , 12.85178406,\n",
       "       34.66210328, 22.34673468, 21.84194028, 33.24476712, 26.81000522,\n",
       "       22.09210261,  8.61501679, 28.22846115, 25.63857437, 26.14527348,\n",
       "       17.45548466, 25.88538982, 17.24376606, 33.77822862, 35.97986588,\n",
       "       15.96504987, 30.52444641,  5.7808704 , 26.63230923, 12.33308752,\n",
       "       27.06943834, 40.06223438, 29.14650742, 14.1799444 , 20.40337243,\n",
       "       18.33485711, 19.03227163, 33.19657185, 24.60005169, 26.1237655 ,\n",
       "       16.48789828, 22.8317948 , 10.86635028, 17.36035043, 22.08026751,\n",
       "       22.31345324, 11.75785195, 32.28935223, 22.24777361, 17.05512931,\n",
       "       21.77021855, 25.8980278 , 13.78450498, 22.89786632])"
      ]
     },
     "execution_count": 149,
     "metadata": {},
     "output_type": "execute_result"
    }
   ],
   "source": [
    "y_pred_train"
   ]
  },
  {
   "cell_type": "code",
   "execution_count": 154,
   "id": "ddd79ac3-95d7-417e-8eb2-8432776314d3",
   "metadata": {},
   "outputs": [
    {
     "data": {
      "text/plain": [
       "array([29.51952505, 36.25716545, 14.67411405, 25.25751882, 17.97417675,\n",
       "       23.57148527, 17.64961211, 13.53231189, 22.79316294, 20.75014793,\n",
       "       25.45181818, 19.29693495, -1.32754294, 22.06580463, 19.51770798,\n",
       "       25.59692086, 19.97139002,  3.73658551, 38.86897075, 15.24647489,\n",
       "       27.11659387, 29.7616977 , 10.88716553, 23.75822326, 16.98968712,\n",
       "       14.17715892, 23.0998789 , 16.65573982, 22.88242696, 19.34606726,\n",
       "       22.8671256 , 25.47571922, 24.61952808, 17.88349057, 16.6006168 ,\n",
       "       17.90388081, 31.58836257, 20.40242176, 24.2489641 , 24.75040942,\n",
       "       13.88488331, 32.3108411 , 39.72236907, 17.61666171, 27.50930837,\n",
       "       15.50062044, 13.73960806, 26.04905463, 19.81118665, 30.48357793,\n",
       "       22.0259634 , 34.93240845, 15.43688973, 26.30857328, 39.98134568,\n",
       "       22.5472481 , 17.8306236 , 31.26627632, 25.29087005, 13.31442447,\n",
       "       23.10095675, 29.21100743, 32.00922988, 16.6182301 , 20.37246448,\n",
       "       16.95480451, 18.21801345, 26.10839097, 29.41167458, 15.39884873,\n",
       "       20.56687534, 26.68334674, 10.48249655, 14.77562314, 24.04751969,\n",
       "        6.68405386, 21.63729168, 39.22529557, 16.88583911,  8.89650715,\n",
       "       21.22161593, 11.89788389, 19.82401693,  7.0874458 , 23.34942974,\n",
       "       32.96678674, 19.81880034, 25.71511356, 28.84371446, 19.64725193,\n",
       "       26.09272123,  7.95264992, 19.40761065, 15.69311934, 12.80573342,\n",
       "       20.35146339, 22.6346401 ,  2.32732217, 16.07873011, 18.23107739,\n",
       "       22.39073615, 24.80878953])"
      ]
     },
     "execution_count": 154,
     "metadata": {},
     "output_type": "execute_result"
    }
   ],
   "source": [
    "y_pred_test"
   ]
  },
  {
   "cell_type": "code",
   "execution_count": 157,
   "id": "d63d1402-735c-4e12-9f68-dac6b2f3ad94",
   "metadata": {},
   "outputs": [
    {
     "data": {
      "image/png": "[encoded data removed]",
      "text/plain": [
       "<Figure size 640x480 with 1 Axes>"
      ]
     },
     "metadata": {},
     "output_type": "display_data"
    }
   ],
   "source": [
    "sns.distplot((y_test-y_pred_test), bins=100)\n",
    "plt.show()"
   ]
  },
  {
   "cell_type": "code",
   "execution_count": 165,
   "id": "3eca1594-87fd-4fac-ab4f-b33048b2013c",
   "metadata": {},
   "outputs": [
    {
     "data": {
      "image/png": "[encoded data removed]",
      "text/plain": [
       "<Figure size 640x480 with 1 Axes>"
      ]
     },
     "metadata": {},
     "output_type": "display_data"
    }
   ],
   "source": [
    "plt.scatter(y_test,y_pred_test)\n",
    "plt.show()"
   ]
  },
  {
   "cell_type": "markdown",
   "id": "5710f9bb-19f8-4c64-93f8-92168d25272c",
   "metadata": {},
   "source": [
    "# OLS METHOD"
   ]
  },
  {
   "cell_type": "code",
   "execution_count": 129,
   "id": "9150b61c-7d5e-4e4a-bba4-311f472ad6f2",
   "metadata": {},
   "outputs": [],
   "source": [
    "from statsmodels.regression.linear_model import OLS\n",
    "import statsmodels.regression.linear_model as smf"
   ]
  },
  {
   "cell_type": "code",
   "execution_count": 132,
   "id": "a7c7edd1-a37e-42fc-918b-d0b380b1ee88",
   "metadata": {},
   "outputs": [],
   "source": [
    "linear_reg_training = smf.OLS(endog=y_train, exog=x_train).fit()\n",
    "linear_reg_test = smf.OLS(endog=y_test, exog=x_test).fit()"
   ]
  },
  {
   "cell_type": "code",
   "execution_count": 135,
   "id": "e57f85e4-ffca-40fa-aeb3-b4e57a797d5d",
   "metadata": {},
   "outputs": [
    {
     "data": {
      "text/html": [
       "<table class=\"simpletable\">\n",
       "<caption>OLS Regression Results</caption>\n",
       "<tr>\n",
       "  <th>Dep. Variable:</th>          <td>medv</td>       <th>  R-squared (uncentered):</th>      <td>   0.959</td> \n",
       "</tr>\n",
       "<tr>\n",
       "  <th>Model:</th>                   <td>OLS</td>       <th>  Adj. R-squared (uncentered):</th> <td>   0.958</td> \n",
       "</tr>\n",
       "<tr>\n",
       "  <th>Method:</th>             <td>Least Squares</td>  <th>  F-statistic:       </th>          <td>   705.1</td> \n",
       "</tr>\n",
       "<tr>\n",
       "  <th>Date:</th>             <td>Wed, 01 Jan 2025</td> <th>  Prob (F-statistic):</th>          <td>5.01e-262</td>\n",
       "</tr>\n",
       "<tr>\n",
       "  <th>Time:</th>                 <td>11:12:35</td>     <th>  Log-Likelihood:    </th>          <td> -1222.0</td> \n",
       "</tr>\n",
       "<tr>\n",
       "  <th>No. Observations:</th>      <td>   404</td>      <th>  AIC:               </th>          <td>   2470.</td> \n",
       "</tr>\n",
       "<tr>\n",
       "  <th>Df Residuals:</th>          <td>   391</td>      <th>  BIC:               </th>          <td>   2522.</td> \n",
       "</tr>\n",
       "<tr>\n",
       "  <th>Df Model:</th>              <td>    13</td>      <th>                     </th>              <td> </td>    \n",
       "</tr>\n",
       "<tr>\n",
       "  <th>Covariance Type:</th>      <td>nonrobust</td>    <th>                     </th>              <td> </td>    \n",
       "</tr>\n",
       "</table>\n",
       "<table class=\"simpletable\">\n",
       "<tr>\n",
       "     <td></td>        <th>coef</th>     <th>std err</th>      <th>t</th>      <th>P>|t|</th>  <th>[0.025</th>    <th>0.975]</th>  \n",
       "</tr>\n",
       "<tr>\n",
       "  <th>crim</th>    <td>   -0.4878</td> <td>    0.234</td> <td>   -2.082</td> <td> 0.038</td> <td>   -0.949</td> <td>   -0.027</td>\n",
       "</tr>\n",
       "<tr>\n",
       "  <th>zn</th>      <td>    0.0221</td> <td>    0.033</td> <td>    0.670</td> <td> 0.503</td> <td>   -0.043</td> <td>    0.087</td>\n",
       "</tr>\n",
       "<tr>\n",
       "  <th>indus</th>   <td>    0.0409</td> <td>    0.072</td> <td>    0.566</td> <td> 0.572</td> <td>   -0.101</td> <td>    0.183</td>\n",
       "</tr>\n",
       "<tr>\n",
       "  <th>chas</th>    <td>    3.1887</td> <td>    1.021</td> <td>    3.123</td> <td> 0.002</td> <td>    1.181</td> <td>    5.196</td>\n",
       "</tr>\n",
       "<tr>\n",
       "  <th>nox</th>     <td>  -11.9672</td> <td>    4.247</td> <td>   -2.817</td> <td> 0.005</td> <td>  -20.318</td> <td>   -3.616</td>\n",
       "</tr>\n",
       "<tr>\n",
       "  <th>rm</th>      <td>    4.9946</td> <td>    0.492</td> <td>   10.160</td> <td> 0.000</td> <td>    4.028</td> <td>    5.961</td>\n",
       "</tr>\n",
       "<tr>\n",
       "  <th>age</th>     <td>   -0.0032</td> <td>    0.016</td> <td>   -0.208</td> <td> 0.835</td> <td>   -0.034</td> <td>    0.027</td>\n",
       "</tr>\n",
       "<tr>\n",
       "  <th>dis</th>     <td>   -1.1502</td> <td>    0.233</td> <td>   -4.945</td> <td> 0.000</td> <td>   -1.608</td> <td>   -0.693</td>\n",
       "</tr>\n",
       "<tr>\n",
       "  <th>rad</th>     <td>    0.2787</td> <td>    0.104</td> <td>    2.687</td> <td> 0.008</td> <td>    0.075</td> <td>    0.483</td>\n",
       "</tr>\n",
       "<tr>\n",
       "  <th>tax</th>     <td>   -0.0081</td> <td>    0.004</td> <td>   -1.847</td> <td> 0.065</td> <td>   -0.017</td> <td>    0.001</td>\n",
       "</tr>\n",
       "<tr>\n",
       "  <th>ptratio</th> <td>   -0.9025</td> <td>    0.155</td> <td>   -5.821</td> <td> 0.000</td> <td>   -1.207</td> <td>   -0.598</td>\n",
       "</tr>\n",
       "<tr>\n",
       "  <th>b</th>       <td>    0.0686</td> <td>    0.013</td> <td>    5.302</td> <td> 0.000</td> <td>    0.043</td> <td>    0.094</td>\n",
       "</tr>\n",
       "<tr>\n",
       "  <th>lstat</th>   <td>   -0.5148</td> <td>    0.061</td> <td>   -8.489</td> <td> 0.000</td> <td>   -0.634</td> <td>   -0.396</td>\n",
       "</tr>\n",
       "</table>\n",
       "<table class=\"simpletable\">\n",
       "<tr>\n",
       "  <th>Omnibus:</th>       <td>145.588</td> <th>  Durbin-Watson:     </th> <td>   2.149</td> \n",
       "</tr>\n",
       "<tr>\n",
       "  <th>Prob(Omnibus):</th> <td> 0.000</td>  <th>  Jarque-Bera (JB):  </th> <td> 616.802</td> \n",
       "</tr>\n",
       "<tr>\n",
       "  <th>Skew:</th>          <td> 1.538</td>  <th>  Prob(JB):          </th> <td>1.16e-134</td>\n",
       "</tr>\n",
       "<tr>\n",
       "  <th>Kurtosis:</th>      <td> 8.213</td>  <th>  Cond. No.          </th> <td>9.72e+03</td> \n",
       "</tr>\n",
       "</table><br/><br/>Notes:<br/>[1] R² is computed without centering (uncentered) since the model does not contain a constant.<br/>[2] Standard Errors assume that the covariance matrix of the errors is correctly specified.<br/>[3] The condition number is large, 9.72e+03. This might indicate that there are<br/>strong multicollinearity or other numerical problems."
      ],
      "text/latex": [
       "\\begin{center}\n",
       "\\begin{tabular}{lclc}\n",
       "\\toprule\n",
       "\\textbf{Dep. Variable:}    &       medv       & \\textbf{  R-squared (uncentered):}      &     0.959   \\\\\n",
       "\\textbf{Model:}            &       OLS        & \\textbf{  Adj. R-squared (uncentered):} &     0.958   \\\\\n",
       "\\textbf{Method:}           &  Least Squares   & \\textbf{  F-statistic:       }          &     705.1   \\\\\n",
       "\\textbf{Date:}             & Wed, 01 Jan 2025 & \\textbf{  Prob (F-statistic):}          & 5.01e-262   \\\\\n",
       "\\textbf{Time:}             &     11:12:35     & \\textbf{  Log-Likelihood:    }          &   -1222.0   \\\\\n",
       "\\textbf{No. Observations:} &         404      & \\textbf{  AIC:               }          &     2470.   \\\\\n",
       "\\textbf{Df Residuals:}     &         391      & \\textbf{  BIC:               }          &     2522.   \\\\\n",
       "\\textbf{Df Model:}         &          13      & \\textbf{                     }          &             \\\\\n",
       "\\textbf{Covariance Type:}  &    nonrobust     & \\textbf{                     }          &             \\\\\n",
       "\\bottomrule\n",
       "\\end{tabular}\n",
       "\\begin{tabular}{lcccccc}\n",
       "                 & \\textbf{coef} & \\textbf{std err} & \\textbf{t} & \\textbf{P$> |$t$|$} & \\textbf{[0.025} & \\textbf{0.975]}  \\\\\n",
       "\\midrule\n",
       "\\textbf{crim}    &      -0.4878  &        0.234     &    -2.082  &         0.038        &       -0.949    &       -0.027     \\\\\n",
       "\\textbf{zn}      &       0.0221  &        0.033     &     0.670  &         0.503        &       -0.043    &        0.087     \\\\\n",
       "\\textbf{indus}   &       0.0409  &        0.072     &     0.566  &         0.572        &       -0.101    &        0.183     \\\\\n",
       "\\textbf{chas}    &       3.1887  &        1.021     &     3.123  &         0.002        &        1.181    &        5.196     \\\\\n",
       "\\textbf{nox}     &     -11.9672  &        4.247     &    -2.817  &         0.005        &      -20.318    &       -3.616     \\\\\n",
       "\\textbf{rm}      &       4.9946  &        0.492     &    10.160  &         0.000        &        4.028    &        5.961     \\\\\n",
       "\\textbf{age}     &      -0.0032  &        0.016     &    -0.208  &         0.835        &       -0.034    &        0.027     \\\\\n",
       "\\textbf{dis}     &      -1.1502  &        0.233     &    -4.945  &         0.000        &       -1.608    &       -0.693     \\\\\n",
       "\\textbf{rad}     &       0.2787  &        0.104     &     2.687  &         0.008        &        0.075    &        0.483     \\\\\n",
       "\\textbf{tax}     &      -0.0081  &        0.004     &    -1.847  &         0.065        &       -0.017    &        0.001     \\\\\n",
       "\\textbf{ptratio} &      -0.9025  &        0.155     &    -5.821  &         0.000        &       -1.207    &       -0.598     \\\\\n",
       "\\textbf{b}       &       0.0686  &        0.013     &     5.302  &         0.000        &        0.043    &        0.094     \\\\\n",
       "\\textbf{lstat}   &      -0.5148  &        0.061     &    -8.489  &         0.000        &       -0.634    &       -0.396     \\\\\n",
       "\\bottomrule\n",
       "\\end{tabular}\n",
       "\\begin{tabular}{lclc}\n",
       "\\textbf{Omnibus:}       & 145.588 & \\textbf{  Durbin-Watson:     } &     2.149  \\\\\n",
       "\\textbf{Prob(Omnibus):} &   0.000 & \\textbf{  Jarque-Bera (JB):  } &   616.802  \\\\\n",
       "\\textbf{Skew:}          &   1.538 & \\textbf{  Prob(JB):          } & 1.16e-134  \\\\\n",
       "\\textbf{Kurtosis:}      &   8.213 & \\textbf{  Cond. No.          } &  9.72e+03  \\\\\n",
       "\\bottomrule\n",
       "\\end{tabular}\n",
       "%\\caption{OLS Regression Results}\n",
       "\\end{center}\n",
       "\n",
       "Notes: \\newline\n",
       " [1] R² is computed without centering (uncentered) since the model does not contain a constant. \\newline\n",
       " [2] Standard Errors assume that the covariance matrix of the errors is correctly specified. \\newline\n",
       " [3] The condition number is large, 9.72e+03. This might indicate that there are \\newline\n",
       " strong multicollinearity or other numerical problems."
      ],
      "text/plain": [
       "<class 'statsmodels.iolib.summary.Summary'>\n",
       "\"\"\"\n",
       "                                 OLS Regression Results                                \n",
       "=======================================================================================\n",
       "Dep. Variable:                   medv   R-squared (uncentered):                   0.959\n",
       "Model:                            OLS   Adj. R-squared (uncentered):              0.958\n",
       "Method:                 Least Squares   F-statistic:                              705.1\n",
       "Date:                Wed, 01 Jan 2025   Prob (F-statistic):                   5.01e-262\n",
       "Time:                        11:12:35   Log-Likelihood:                         -1222.0\n",
       "No. Observations:                 404   AIC:                                      2470.\n",
       "Df Residuals:                     391   BIC:                                      2522.\n",
       "Df Model:                          13                                                  \n",
       "Covariance Type:            nonrobust                                                  \n",
       "==============================================================================\n",
       "                 coef    std err          t      P>|t|      [0.025      0.975]\n",
       "------------------------------------------------------------------------------\n",
       "crim          -0.4878      0.234     -2.082      0.038      -0.949      -0.027\n",
       "zn             0.0221      0.033      0.670      0.503      -0.043       0.087\n",
       "indus          0.0409      0.072      0.566      0.572      -0.101       0.183\n",
       "chas           3.1887      1.021      3.123      0.002       1.181       5.196\n",
       "nox          -11.9672      4.247     -2.817      0.005     -20.318      -3.616\n",
       "rm             4.9946      0.492     10.160      0.000       4.028       5.961\n",
       "age           -0.0032      0.016     -0.208      0.835      -0.034       0.027\n",
       "dis           -1.1502      0.233     -4.945      0.000      -1.608      -0.693\n",
       "rad            0.2787      0.104      2.687      0.008       0.075       0.483\n",
       "tax           -0.0081      0.004     -1.847      0.065      -0.017       0.001\n",
       "ptratio       -0.9025      0.155     -5.821      0.000      -1.207      -0.598\n",
       "b              0.0686      0.013      5.302      0.000       0.043       0.094\n",
       "lstat         -0.5148      0.061     -8.489      0.000      -0.634      -0.396\n",
       "==============================================================================\n",
       "Omnibus:                      145.588   Durbin-Watson:                   2.149\n",
       "Prob(Omnibus):                  0.000   Jarque-Bera (JB):              616.802\n",
       "Skew:                           1.538   Prob(JB):                    1.16e-134\n",
       "Kurtosis:                       8.213   Cond. No.                     9.72e+03\n",
       "==============================================================================\n",
       "\n",
       "Notes:\n",
       "[1] R² is computed without centering (uncentered) since the model does not contain a constant.\n",
       "[2] Standard Errors assume that the covariance matrix of the errors is correctly specified.\n",
       "[3] The condition number is large, 9.72e+03. This might indicate that there are\n",
       "strong multicollinearity or other numerical problems.\n",
       "\"\"\""
      ]
     },
     "execution_count": 135,
     "metadata": {},
     "output_type": "execute_result"
    }
   ],
   "source": [
    "linear_reg_training.summary()"
   ]
  },
  {
   "cell_type": "code",
   "execution_count": 140,
   "id": "3facab9f-fadd-4933-8b27-4d919a9c7e69",
   "metadata": {},
   "outputs": [
    {
     "data": {
      "text/html": [
       "<table class=\"simpletable\">\n",
       "<caption>OLS Regression Results</caption>\n",
       "<tr>\n",
       "  <th>Dep. Variable:</th>          <td>medv</td>       <th>  R-squared (uncentered):</th>      <td>   0.955</td>\n",
       "</tr>\n",
       "<tr>\n",
       "  <th>Model:</th>                   <td>OLS</td>       <th>  Adj. R-squared (uncentered):</th> <td>   0.948</td>\n",
       "</tr>\n",
       "<tr>\n",
       "  <th>Method:</th>             <td>Least Squares</td>  <th>  F-statistic:       </th>          <td>   144.6</td>\n",
       "</tr>\n",
       "<tr>\n",
       "  <th>Date:</th>             <td>Wed, 01 Jan 2025</td> <th>  Prob (F-statistic):</th>          <td>6.59e-54</td>\n",
       "</tr>\n",
       "<tr>\n",
       "  <th>Time:</th>                 <td>11:16:09</td>     <th>  Log-Likelihood:    </th>          <td> -307.20</td>\n",
       "</tr>\n",
       "<tr>\n",
       "  <th>No. Observations:</th>      <td>   102</td>      <th>  AIC:               </th>          <td>   640.4</td>\n",
       "</tr>\n",
       "<tr>\n",
       "  <th>Df Residuals:</th>          <td>    89</td>      <th>  BIC:               </th>          <td>   674.5</td>\n",
       "</tr>\n",
       "<tr>\n",
       "  <th>Df Model:</th>              <td>    13</td>      <th>                     </th>              <td> </td>   \n",
       "</tr>\n",
       "<tr>\n",
       "  <th>Covariance Type:</th>      <td>nonrobust</td>    <th>                     </th>              <td> </td>   \n",
       "</tr>\n",
       "</table>\n",
       "<table class=\"simpletable\">\n",
       "<tr>\n",
       "     <td></td>        <th>coef</th>     <th>std err</th>      <th>t</th>      <th>P>|t|</th>  <th>[0.025</th>    <th>0.975]</th>  \n",
       "</tr>\n",
       "<tr>\n",
       "  <th>crim</th>    <td>   -0.2870</td> <td>    0.497</td> <td>   -0.578</td> <td> 0.565</td> <td>   -1.274</td> <td>    0.700</td>\n",
       "</tr>\n",
       "<tr>\n",
       "  <th>zn</th>      <td>    0.1523</td> <td>    0.068</td> <td>    2.226</td> <td> 0.029</td> <td>    0.016</td> <td>    0.288</td>\n",
       "</tr>\n",
       "<tr>\n",
       "  <th>indus</th>   <td>   -0.0608</td> <td>    0.178</td> <td>   -0.341</td> <td> 0.734</td> <td>   -0.415</td> <td>    0.293</td>\n",
       "</tr>\n",
       "<tr>\n",
       "  <th>chas</th>    <td>    2.6562</td> <td>    2.407</td> <td>    1.103</td> <td> 0.273</td> <td>   -2.127</td> <td>    7.439</td>\n",
       "</tr>\n",
       "<tr>\n",
       "  <th>nox</th>     <td>   -7.4260</td> <td>   10.028</td> <td>   -0.741</td> <td> 0.461</td> <td>  -27.351</td> <td>   12.499</td>\n",
       "</tr>\n",
       "<tr>\n",
       "  <th>rm</th>      <td>    3.1972</td> <td>    1.067</td> <td>    2.995</td> <td> 0.004</td> <td>    1.076</td> <td>    5.318</td>\n",
       "</tr>\n",
       "<tr>\n",
       "  <th>age</th>     <td>    0.0020</td> <td>    0.038</td> <td>    0.054</td> <td> 0.957</td> <td>   -0.073</td> <td>    0.077</td>\n",
       "</tr>\n",
       "<tr>\n",
       "  <th>dis</th>     <td>   -0.8598</td> <td>    0.483</td> <td>   -1.779</td> <td> 0.079</td> <td>   -1.820</td> <td>    0.100</td>\n",
       "</tr>\n",
       "<tr>\n",
       "  <th>rad</th>     <td>    0.3239</td> <td>    0.212</td> <td>    1.531</td> <td> 0.129</td> <td>   -0.096</td> <td>    0.744</td>\n",
       "</tr>\n",
       "<tr>\n",
       "  <th>tax</th>     <td>   -0.0079</td> <td>    0.010</td> <td>   -0.777</td> <td> 0.439</td> <td>   -0.028</td> <td>    0.012</td>\n",
       "</tr>\n",
       "<tr>\n",
       "  <th>ptratio</th> <td>   -0.6488</td> <td>    0.368</td> <td>   -1.763</td> <td> 0.081</td> <td>   -1.380</td> <td>    0.083</td>\n",
       "</tr>\n",
       "<tr>\n",
       "  <th>b</th>       <td>    0.0731</td> <td>    0.028</td> <td>    2.646</td> <td> 0.010</td> <td>    0.018</td> <td>    0.128</td>\n",
       "</tr>\n",
       "<tr>\n",
       "  <th>lstat</th>   <td>   -0.4956</td> <td>    0.143</td> <td>   -3.474</td> <td> 0.001</td> <td>   -0.779</td> <td>   -0.212</td>\n",
       "</tr>\n",
       "</table>\n",
       "<table class=\"simpletable\">\n",
       "<tr>\n",
       "  <th>Omnibus:</th>       <td>69.498</td> <th>  Durbin-Watson:     </th> <td>   1.661</td>\n",
       "</tr>\n",
       "<tr>\n",
       "  <th>Prob(Omnibus):</th> <td> 0.000</td> <th>  Jarque-Bera (JB):  </th> <td> 443.093</td>\n",
       "</tr>\n",
       "<tr>\n",
       "  <th>Skew:</th>          <td> 2.160</td> <th>  Prob(JB):          </th> <td>6.08e-97</td>\n",
       "</tr>\n",
       "<tr>\n",
       "  <th>Kurtosis:</th>      <td>12.252</td> <th>  Cond. No.          </th> <td>1.14e+04</td>\n",
       "</tr>\n",
       "</table><br/><br/>Notes:<br/>[1] R² is computed without centering (uncentered) since the model does not contain a constant.<br/>[2] Standard Errors assume that the covariance matrix of the errors is correctly specified.<br/>[3] The condition number is large, 1.14e+04. This might indicate that there are<br/>strong multicollinearity or other numerical problems."
      ],
      "text/latex": [
       "\\begin{center}\n",
       "\\begin{tabular}{lclc}\n",
       "\\toprule\n",
       "\\textbf{Dep. Variable:}    &       medv       & \\textbf{  R-squared (uncentered):}      &     0.955   \\\\\n",
       "\\textbf{Model:}            &       OLS        & \\textbf{  Adj. R-squared (uncentered):} &     0.948   \\\\\n",
       "\\textbf{Method:}           &  Least Squares   & \\textbf{  F-statistic:       }          &     144.6   \\\\\n",
       "\\textbf{Date:}             & Wed, 01 Jan 2025 & \\textbf{  Prob (F-statistic):}          &  6.59e-54   \\\\\n",
       "\\textbf{Time:}             &     11:16:09     & \\textbf{  Log-Likelihood:    }          &   -307.20   \\\\\n",
       "\\textbf{No. Observations:} &         102      & \\textbf{  AIC:               }          &     640.4   \\\\\n",
       "\\textbf{Df Residuals:}     &          89      & \\textbf{  BIC:               }          &     674.5   \\\\\n",
       "\\textbf{Df Model:}         &          13      & \\textbf{                     }          &             \\\\\n",
       "\\textbf{Covariance Type:}  &    nonrobust     & \\textbf{                     }          &             \\\\\n",
       "\\bottomrule\n",
       "\\end{tabular}\n",
       "\\begin{tabular}{lcccccc}\n",
       "                 & \\textbf{coef} & \\textbf{std err} & \\textbf{t} & \\textbf{P$> |$t$|$} & \\textbf{[0.025} & \\textbf{0.975]}  \\\\\n",
       "\\midrule\n",
       "\\textbf{crim}    &      -0.2870  &        0.497     &    -0.578  &         0.565        &       -1.274    &        0.700     \\\\\n",
       "\\textbf{zn}      &       0.1523  &        0.068     &     2.226  &         0.029        &        0.016    &        0.288     \\\\\n",
       "\\textbf{indus}   &      -0.0608  &        0.178     &    -0.341  &         0.734        &       -0.415    &        0.293     \\\\\n",
       "\\textbf{chas}    &       2.6562  &        2.407     &     1.103  &         0.273        &       -2.127    &        7.439     \\\\\n",
       "\\textbf{nox}     &      -7.4260  &       10.028     &    -0.741  &         0.461        &      -27.351    &       12.499     \\\\\n",
       "\\textbf{rm}      &       3.1972  &        1.067     &     2.995  &         0.004        &        1.076    &        5.318     \\\\\n",
       "\\textbf{age}     &       0.0020  &        0.038     &     0.054  &         0.957        &       -0.073    &        0.077     \\\\\n",
       "\\textbf{dis}     &      -0.8598  &        0.483     &    -1.779  &         0.079        &       -1.820    &        0.100     \\\\\n",
       "\\textbf{rad}     &       0.3239  &        0.212     &     1.531  &         0.129        &       -0.096    &        0.744     \\\\\n",
       "\\textbf{tax}     &      -0.0079  &        0.010     &    -0.777  &         0.439        &       -0.028    &        0.012     \\\\\n",
       "\\textbf{ptratio} &      -0.6488  &        0.368     &    -1.763  &         0.081        &       -1.380    &        0.083     \\\\\n",
       "\\textbf{b}       &       0.0731  &        0.028     &     2.646  &         0.010        &        0.018    &        0.128     \\\\\n",
       "\\textbf{lstat}   &      -0.4956  &        0.143     &    -3.474  &         0.001        &       -0.779    &       -0.212     \\\\\n",
       "\\bottomrule\n",
       "\\end{tabular}\n",
       "\\begin{tabular}{lclc}\n",
       "\\textbf{Omnibus:}       & 69.498 & \\textbf{  Durbin-Watson:     } &    1.661  \\\\\n",
       "\\textbf{Prob(Omnibus):} &  0.000 & \\textbf{  Jarque-Bera (JB):  } &  443.093  \\\\\n",
       "\\textbf{Skew:}          &  2.160 & \\textbf{  Prob(JB):          } & 6.08e-97  \\\\\n",
       "\\textbf{Kurtosis:}      & 12.252 & \\textbf{  Cond. No.          } & 1.14e+04  \\\\\n",
       "\\bottomrule\n",
       "\\end{tabular}\n",
       "%\\caption{OLS Regression Results}\n",
       "\\end{center}\n",
       "\n",
       "Notes: \\newline\n",
       " [1] R² is computed without centering (uncentered) since the model does not contain a constant. \\newline\n",
       " [2] Standard Errors assume that the covariance matrix of the errors is correctly specified. \\newline\n",
       " [3] The condition number is large, 1.14e+04. This might indicate that there are \\newline\n",
       " strong multicollinearity or other numerical problems."
      ],
      "text/plain": [
       "<class 'statsmodels.iolib.summary.Summary'>\n",
       "\"\"\"\n",
       "                                 OLS Regression Results                                \n",
       "=======================================================================================\n",
       "Dep. Variable:                   medv   R-squared (uncentered):                   0.955\n",
       "Model:                            OLS   Adj. R-squared (uncentered):              0.948\n",
       "Method:                 Least Squares   F-statistic:                              144.6\n",
       "Date:                Wed, 01 Jan 2025   Prob (F-statistic):                    6.59e-54\n",
       "Time:                        11:16:09   Log-Likelihood:                         -307.20\n",
       "No. Observations:                 102   AIC:                                      640.4\n",
       "Df Residuals:                      89   BIC:                                      674.5\n",
       "Df Model:                          13                                                  \n",
       "Covariance Type:            nonrobust                                                  \n",
       "==============================================================================\n",
       "                 coef    std err          t      P>|t|      [0.025      0.975]\n",
       "------------------------------------------------------------------------------\n",
       "crim          -0.2870      0.497     -0.578      0.565      -1.274       0.700\n",
       "zn             0.1523      0.068      2.226      0.029       0.016       0.288\n",
       "indus         -0.0608      0.178     -0.341      0.734      -0.415       0.293\n",
       "chas           2.6562      2.407      1.103      0.273      -2.127       7.439\n",
       "nox           -7.4260     10.028     -0.741      0.461     -27.351      12.499\n",
       "rm             3.1972      1.067      2.995      0.004       1.076       5.318\n",
       "age            0.0020      0.038      0.054      0.957      -0.073       0.077\n",
       "dis           -0.8598      0.483     -1.779      0.079      -1.820       0.100\n",
       "rad            0.3239      0.212      1.531      0.129      -0.096       0.744\n",
       "tax           -0.0079      0.010     -0.777      0.439      -0.028       0.012\n",
       "ptratio       -0.6488      0.368     -1.763      0.081      -1.380       0.083\n",
       "b              0.0731      0.028      2.646      0.010       0.018       0.128\n",
       "lstat         -0.4956      0.143     -3.474      0.001      -0.779      -0.212\n",
       "==============================================================================\n",
       "Omnibus:                       69.498   Durbin-Watson:                   1.661\n",
       "Prob(Omnibus):                  0.000   Jarque-Bera (JB):              443.093\n",
       "Skew:                           2.160   Prob(JB):                     6.08e-97\n",
       "Kurtosis:                      12.252   Cond. No.                     1.14e+04\n",
       "==============================================================================\n",
       "\n",
       "Notes:\n",
       "[1] R² is computed without centering (uncentered) since the model does not contain a constant.\n",
       "[2] Standard Errors assume that the covariance matrix of the errors is correctly specified.\n",
       "[3] The condition number is large, 1.14e+04. This might indicate that there are\n",
       "strong multicollinearity or other numerical problems.\n",
       "\"\"\""
      ]
     },
     "execution_count": 140,
     "metadata": {},
     "output_type": "execute_result"
    }
   ],
   "source": [
    "linear_reg_test.summary()\n",
    "\n"
   ]
  },
  {
   "cell_type": "code",
   "execution_count": null,
   "id": "bfab397e-d3a2-4931-a757-4ffd2192a2e2",
   "metadata": {},
   "outputs": [],
   "source": []
  }
 ],
 "metadata": {
  "kernelspec": {
   "display_name": "Python [conda env:base] *",
   "language": "python",
   "name": "conda-base-py"
  },
  "language_info": {
   "codemirror_mode": {
    "name": "ipython",
    "version": 3
   },
   "file_extension": ".py",
   "mimetype": "text/x-python",
   "name": "python",
   "nbconvert_exporter": "python",
   "pygments_lexer": "ipython3",
   "version": "3.12.7"
  }
 },
 "nbformat": 4,
 "nbformat_minor": 5
}
